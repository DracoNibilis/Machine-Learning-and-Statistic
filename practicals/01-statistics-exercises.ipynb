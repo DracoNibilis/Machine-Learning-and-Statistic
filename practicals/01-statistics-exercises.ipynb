{
 "cells": [
  {
   "cell_type": "markdown",
   "id": "afe39ed9",
   "metadata": {},
   "source": [
    "<h3 style=\"color: #001a79;\">Exercise 1.0</h3>\n",
    "\n",
    "<hr style=\"border-top: 1px solid #001a79;\" />"
   ]
  },
  {
   "cell_type": "markdown",
   "id": "d8a949d6",
   "metadata": {},
   "source": [
    "While choosing 4 cups out of 8 gives about a 1.5% chance randomly selecting correct cups, calculate the minimum number of cups of tea required to ensure the probability of randomly selecting the correct cups is less than or equal to 1%."
   ]
  },
  {
   "cell_type": "code",
   "execution_count": 16,
   "id": "e16c29fc",
   "metadata": {},
   "outputs": [],
   "source": [
    "# Math module\n",
    "import math"
   ]
  },
  {
   "cell_type": "markdown",
   "id": "01081e01",
   "metadata": {},
   "source": [
    "Check the probability of randomly selecting 4 coups out of 8."
   ]
  },
  {
   "cell_type": "code",
   "execution_count": 17,
   "id": "7589f61c",
   "metadata": {},
   "outputs": [
    {
     "data": {
      "text/plain": [
       "70"
      ]
     },
     "execution_count": 17,
     "metadata": {},
     "output_type": "execute_result"
    }
   ],
   "source": [
    "# Number of ways of selecting 4 cups from 8.\n",
    "math.comb(8,4)"
   ]
  },
  {
   "cell_type": "code",
   "execution_count": 18,
   "id": "10dc4b29",
   "metadata": {},
   "outputs": [
    {
     "data": {
      "text/plain": [
       "0.014285714285714285"
      ]
     },
     "execution_count": 18,
     "metadata": {},
     "output_type": "execute_result"
    }
   ],
   "source": [
    "# Probability of randomly selecting correct 4 cups is:   (around 1%)\n",
    "1.0 / math.comb(8,4)"
   ]
  },
  {
   "cell_type": "markdown",
   "id": "a0d40165",
   "metadata": {},
   "source": [
    "Check number of possible combination of choices with 10 cups."
   ]
  },
  {
   "cell_type": "code",
   "execution_count": 19,
   "id": "645be238",
   "metadata": {},
   "outputs": [
    {
     "data": {
      "text/plain": [
       "252"
      ]
     },
     "execution_count": 19,
     "metadata": {},
     "output_type": "execute_result"
    }
   ],
   "source": [
    "# Number of ways selecting 5 cups from 10.\n",
    "math.comb(10,5)"
   ]
  },
  {
   "cell_type": "code",
   "execution_count": 20,
   "id": "d80d1b6d",
   "metadata": {},
   "outputs": [
    {
     "data": {
      "text/plain": [
       "0.003968253968253968"
      ]
     },
     "execution_count": 20,
     "metadata": {},
     "output_type": "execute_result"
    }
   ],
   "source": [
    "# Probability of randomly selecting correct 5 cups is:   (less than 1%)\n",
    "1.0 / math.comb(10,5)"
   ]
  },
  {
   "cell_type": "markdown",
   "id": "ace8f0cd",
   "metadata": {},
   "source": [
    "Check the other combinations close to given example.\n",
    "Choosing 6 cups out of 12.\n",
    "Choosing 3 cups out of 6."
   ]
  },
  {
   "cell_type": "code",
   "execution_count": 21,
   "id": "1639831d",
   "metadata": {},
   "outputs": [
    {
     "data": {
      "text/plain": [
       "0.0010822510822510823"
      ]
     },
     "execution_count": 21,
     "metadata": {},
     "output_type": "execute_result"
    }
   ],
   "source": [
    "# Probability of randomly selecting correct 6 cups is:   (much less than 1%)\n",
    "1.0 / math.comb(12,6)"
   ]
  },
  {
   "cell_type": "code",
   "execution_count": 22,
   "id": "37cdf32f",
   "metadata": {},
   "outputs": [
    {
     "data": {
      "text/plain": [
       "0.05"
      ]
     },
     "execution_count": 22,
     "metadata": {},
     "output_type": "execute_result"
    }
   ],
   "source": [
    "# Probability of randomly selecting correct 3 cups is:   (more than 1%)\n",
    "1.0 / math.comb(6,3)"
   ]
  },
  {
   "cell_type": "markdown",
   "id": "bdfc321e",
   "metadata": {},
   "source": [
    "So, if experiment was done with less cups (choosing 3 out of 6), chance to choose correctly randomly is much higher than 1%.\n",
    "If experiment was done with 10 cups (choosing 5 out of 10), chance to choose correctly randomly is lower than 1%. \n",
    "Just for testing purpouse, after conducting experiment with 12 cups (choosing 6 out of 12), chance to choose correctly randomly is much lower than 1%.\n",
    "<hr style=\"border-top: 1px solid #001a79;\" />"
   ]
  },
  {
   "cell_type": "markdown",
   "id": "dd017b71",
   "metadata": {},
   "source": [
    "Bonus: How many would be required if you were to let the taster get one cup wrong while maintaining the 1% threshold?"
   ]
  },
  {
   "cell_type": "code",
   "execution_count": null,
   "id": "a2550de6",
   "metadata": {},
   "outputs": [],
   "source": []
  },
  {
   "cell_type": "code",
   "execution_count": null,
   "id": "54586e6c",
   "metadata": {},
   "outputs": [],
   "source": []
  }
 ],
 "metadata": {
  "kernelspec": {
   "display_name": "Python 3",
   "language": "python",
   "name": "python3"
  },
  "language_info": {
   "codemirror_mode": {
    "name": "ipython",
    "version": 3
   },
   "file_extension": ".py",
   "mimetype": "text/x-python",
   "name": "python",
   "nbconvert_exporter": "python",
   "pygments_lexer": "ipython3",
   "version": "3.8.8"
  }
 },
 "nbformat": 4,
 "nbformat_minor": 5
}
