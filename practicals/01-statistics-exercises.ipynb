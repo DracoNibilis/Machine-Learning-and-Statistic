{
 "cells": [
  {
   "cell_type": "markdown",
   "id": "afe39ed9",
   "metadata": {},
   "source": [
    "<h3 style=\"color: #001a79;\">Exercise 1.1</h3>\n",
    "<h3 style=\"color: #001a79;\">Lady Tasting Tea </h3>\n",
    "<hr style=\"border-top: 1px solid #001a79;\" />"
   ]
  },
  {
   "cell_type": "markdown",
   "id": "d8a949d6",
   "metadata": {},
   "source": [
    "While choosing 4 cups out of 8 gives about a 1.5% chance randomly selecting correct cups, calculate the minimum number of cups of tea required to ensure the probability of randomly selecting the correct cups is less than or equal to 1%."
   ]
  },
  {
   "cell_type": "code",
   "execution_count": 23,
   "id": "fe07c270",
   "metadata": {},
   "outputs": [],
   "source": [
    "# Math module\n",
    "import math"
   ]
  },
  {
   "cell_type": "markdown",
   "id": "d10b534f",
   "metadata": {},
   "source": [
    "Check the probability of randomly selecting 4 coups out of 8."
   ]
  },
  {
   "cell_type": "code",
   "execution_count": 24,
   "id": "2e222c14",
   "metadata": {},
   "outputs": [
    {
     "data": {
      "text/plain": [
       "70"
      ]
     },
     "execution_count": 24,
     "metadata": {},
     "output_type": "execute_result"
    }
   ],
   "source": [
    "# Number of ways of selecting 4 cups from 8.\n",
    "math.comb(8,4)"
   ]
  },
  {
   "cell_type": "code",
   "execution_count": 25,
   "id": "10dc4b29",
   "metadata": {},
   "outputs": [
    {
     "data": {
      "text/plain": [
       "0.014285714285714285"
      ]
     },
     "execution_count": 25,
     "metadata": {},
     "output_type": "execute_result"
    }
   ],
   "source": [
    "# Probability of randomly selecting correct 4 cups is:   (around 1%)\n",
    "1.0 / math.comb(8,4)"
   ]
  },
  {
   "cell_type": "markdown",
   "id": "5c211c00",
   "metadata": {},
   "source": [
    "Check number of possible combination of choices with 10 cups."
   ]
  },
  {
   "cell_type": "code",
   "execution_count": 26,
   "id": "645be238",
   "metadata": {},
   "outputs": [
    {
     "data": {
      "text/plain": [
       "252"
      ]
     },
     "execution_count": 26,
     "metadata": {},
     "output_type": "execute_result"
    }
   ],
   "source": [
    "# Number of ways selecting 5 cups from 10.\n",
    "math.comb(10,5)"
   ]
  },
  {
   "cell_type": "code",
   "execution_count": 27,
   "id": "d80d1b6d",
   "metadata": {},
   "outputs": [
    {
     "data": {
      "text/plain": [
       "0.003968253968253968"
      ]
     },
     "execution_count": 27,
     "metadata": {},
     "output_type": "execute_result"
    }
   ],
   "source": [
    "# Probability of randomly selecting correct 5 cups is:   (less than 1%)\n",
    "1.0 / math.comb(10,5)"
   ]
  },
  {
   "cell_type": "markdown",
   "id": "49fa86b4",
   "metadata": {},
   "source": [
    "Check the other combinations close to given example.\n",
    "Choosing 6 cups out of 12.\n",
    "Choosing 3 cups out of 6."
   ]
  },
  {
   "cell_type": "code",
   "execution_count": 28,
   "id": "1639831d",
   "metadata": {},
   "outputs": [
    {
     "data": {
      "text/plain": [
       "0.0010822510822510823"
      ]
     },
     "execution_count": 28,
     "metadata": {},
     "output_type": "execute_result"
    }
   ],
   "source": [
    "# Probability of randomly selecting correct 6 cups is:   (much less than 1%)\n",
    "1.0 / math.comb(12,6)"
   ]
  },
  {
   "cell_type": "code",
   "execution_count": 29,
   "id": "d37d7c41",
   "metadata": {},
   "outputs": [
    {
     "data": {
      "text/plain": [
       "0.05"
      ]
     },
     "execution_count": 29,
     "metadata": {},
     "output_type": "execute_result"
    }
   ],
   "source": [
    "# Probability of randomly selecting correct 3 cups is:   (more than 1%)\n",
    "1.0 / math.comb(6,3)"
   ]
  },
  {
   "cell_type": "markdown",
   "id": "da204b93",
   "metadata": {},
   "source": [
    "So, if experiment was done with less cups (choosing 3 out of 6), chance to choose correctly randomly is much higher than 1%.\n",
    "If experiment was done with 10 cups (choosing 5 out of 10), chance to choose correctly randomly is lower than 1%. \n",
    "Just for testing purpouse, after conducting experiment with 12 cups (choosing 6 out of 12), chance to choose correctly randomly is much lower than 1%.\n",
    "NOTE: All experiment designed to choose equal number of cups.\n",
    "<hr style=\"border-top: 1px solid #001a79;\" />"
   ]
  },
  {
   "cell_type": "markdown",
   "id": "dd017b71",
   "metadata": {},
   "source": [
    "Bonus: How many would be required if you were to let the taster get one cup wrong while maintaining the 1% threshold?"
   ]
  },
  {
   "cell_type": "markdown",
   "id": "17d25805",
   "metadata": {},
   "source": [
    "<h3 style=\"color: #001a79;\">Exercise 1.2</h3>\n",
    "<h3 style=\"color: #001a79;\">Fisher's exact test</h3>\n",
    "<hr style=\"border-top: 1px solid #001a79;\" />"
   ]
  },
  {
   "cell_type": "markdown",
   "id": "d11777a5",
   "metadata": {},
   "source": [
    "Overview od Fisher's Exact Test:  https://www.youtube.com/watch?v=I9KsLCc-eiQ\n"
   ]
  },
  {
   "cell_type": "markdown",
   "id": "bdde20f6",
   "metadata": {},
   "source": [
    "Import <b>scipy.stats</b> library to be able to use fisher exact test code.\n",
    "Documentation used is available under that link:\n",
    "[scipy's documentation of Fisher's exact test](https://docs.scipy.org/doc/scipy/reference/generated/scipy.stats.fisher_exact.html)"
   ]
  },
  {
   "cell_type": "code",
   "execution_count": 30,
   "id": "a48c3594",
   "metadata": {},
   "outputs": [],
   "source": [
    "import scipy.stats as ss"
   ]
  },
  {
   "cell_type": "code",
   "execution_count": 31,
   "id": "56ef53be",
   "metadata": {},
   "outputs": [
    {
     "data": {
      "text/plain": [
       "0.028571428571428536"
      ]
     },
     "execution_count": 31,
     "metadata": {},
     "output_type": "execute_result"
    }
   ],
   "source": [
    "oddsratio, pvalue = ss.fisher_exact([[4,0], [0,4]])\n",
    "pvalue"
   ]
  },
  {
   "cell_type": "code",
   "execution_count": 32,
   "id": "1a552235",
   "metadata": {
    "scrolled": true
   },
   "outputs": [
    {
     "data": {
      "text/plain": [
       "inf"
      ]
     },
     "execution_count": 32,
     "metadata": {},
     "output_type": "execute_result"
    }
   ],
   "source": [
    "oddsratio"
   ]
  },
  {
   "cell_type": "markdown",
   "id": "2d3d56b8",
   "metadata": {},
   "source": [
    "analysing of oddsratio:\n",
    "https://stats.stackexchange.com/questions/415604/interpreting-infinite-odds-ratio-and-confidence-interval-from-fishers-test"
   ]
  },
  {
   "cell_type": "code",
   "execution_count": null,
   "id": "d71bdc73",
   "metadata": {},
   "outputs": [],
   "source": []
  }
 ],
 "metadata": {
  "kernelspec": {
   "display_name": "Python 3",
   "language": "python",
   "name": "python3"
  },
  "language_info": {
   "codemirror_mode": {
    "name": "ipython",
    "version": 3
   },
   "file_extension": ".py",
   "mimetype": "text/x-python",
   "name": "python",
   "nbconvert_exporter": "python",
   "pygments_lexer": "ipython3",
   "version": "3.8.8"
  }
 },
 "nbformat": 4,
 "nbformat_minor": 5
}
