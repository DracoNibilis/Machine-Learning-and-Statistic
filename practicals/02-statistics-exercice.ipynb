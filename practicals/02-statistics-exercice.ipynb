{
 "cells": [
  {
   "cell_type": "markdown",
   "id": "93ebb087",
   "metadata": {},
   "source": [
    "<h3 style=\"color: #001a79;\">Exercise 2.0</h3>\n",
    "<h3 style=\"color: #001a79;\">Plot the absolute value function </h3>\n",
    "<hr style=\"border-top: 1px solid #001a79;\" />"
   ]
  },
  {
   "cell_type": "markdown",
   "id": "db762341",
   "metadata": {},
   "source": [
    "Use numpy and matplotlib. Research and explain why the absolute value function is not tipically used in fitting straight lines to data."
   ]
  },
  {
   "cell_type": "code",
   "execution_count": 20,
   "id": "b132fb38",
   "metadata": {},
   "outputs": [],
   "source": [
    "# Import needed modules.\n",
    "import numpy as np\n",
    "import matplotlib.pyplot as plt"
   ]
  },
  {
   "cell_type": "code",
   "execution_count": 21,
   "id": "e6f702d8",
   "metadata": {},
   "outputs": [
    {
     "data": {
      "text/plain": [
       "array([ 0.,  1.,  2.,  3.,  4.,  5.,  6.,  7.,  8.,  9., 10., 11., 12.,\n",
       "       13., 14., 15., 16., 17., 18., 19., 20.])"
      ]
     },
     "execution_count": 21,
     "metadata": {},
     "output_type": "execute_result"
    }
   ],
   "source": [
    "# Create data set.\n",
    "x = np.arange(0.0, 21.0, 1.0)\n",
    "y = 5.0 * x + 10.0 + np.random.normal(0.0, 5.0, x.size)\n",
    "\n",
    "x"
   ]
  },
  {
   "cell_type": "code",
   "execution_count": 22,
   "id": "a49c455a",
   "metadata": {},
   "outputs": [
    {
     "data": {
      "text/plain": [
       "array([ 16.86787966,  20.81409575,  24.1715383 ,  27.68535575,\n",
       "        23.38878407,  35.71378766,  32.9077492 ,  37.40348278,\n",
       "        50.27159374,  56.75952232,  63.56717819,  66.16901228,\n",
       "        73.29199089,  79.62695137,  82.15841279,  86.69443501,\n",
       "        85.23951003,  93.88800505,  93.03696955, 105.80593704,\n",
       "       110.02118451])"
      ]
     },
     "execution_count": 22,
     "metadata": {},
     "output_type": "execute_result"
    }
   ],
   "source": [
    "y"
   ]
  },
  {
   "cell_type": "code",
   "execution_count": 23,
   "id": "12b344dd",
   "metadata": {},
   "outputs": [
    {
     "data": {
      "image/png": "[encoded data removed]",
      "text/plain": [
       "<Figure size 432x288 with 1 Axes>"
      ]
     },
     "metadata": {
      "needs_background": "light"
     },
     "output_type": "display_data"
    }
   ],
   "source": [
    "# Create the plot.\n",
    "plt.plot(x, y, 'k.')\n",
    "\n",
    "# Set some properties for the plot.\n",
    "plt.xlabel('Weight (KG)')\n",
    "plt.ylabel('Distance (CM)')\n",
    "\n",
    "# Show the plot.\n",
    "plt.show()"
   ]
  },
  {
   "cell_type": "code",
   "execution_count": 24,
   "id": "e8428901",
   "metadata": {},
   "outputs": [
    {
     "name": "stdout",
     "output_type": "stream",
     "text": [
      "m is 4.825886 and c is 12.002249\n"
     ]
    }
   ],
   "source": [
    "# Calculate the best values for m a nd c.\n",
    "\n",
    "#Calculate the means of x and y.\n",
    "x_avg = np.mean(x)\n",
    "y_avg = np.mean(y)\n",
    "\n",
    "# Substract means from x and y.\n",
    "x_zero = x - x_avg\n",
    "y_zero = y - y_avg\n",
    "\n",
    "# Find the best m value.\n",
    "m = np.sum(x_zero * y_zero) / np.sum(x_zero * x_zero)\n",
    "\n",
    "# Calculate the best c value.\n",
    "c = y_avg - m * x_avg\n",
    "\n",
    "print(\"m is %8.6f and c is %6.6f\" %(m,c))"
   ]
  },
  {
   "cell_type": "code",
   "execution_count": 25,
   "id": "28ff69fb",
   "metadata": {},
   "outputs": [
    {
     "data": {
      "image/png": "[encoded data removed]",
      "text/plain": [
       "<Figure size 432x288 with 1 Axes>"
      ]
     },
     "metadata": {
      "needs_background": "light"
     },
     "output_type": "display_data"
    }
   ],
   "source": [
    "# Plot the best fit line.\n",
    "plt.plot(x,y, \"k.\", label=\"Original Data\")\n",
    "plt.plot(x, m*x + c, \"b-\", label=\"Best fit line\")\n",
    "\n",
    "# Add axis labels and a legend. \n",
    "plt.xlabel(\"X values\")\n",
    "plt.ylabel(\"Y values\")\n",
    "plt.legend\n",
    "\n",
    "# Show the plot.\n",
    "plt.show()"
   ]
  },
  {
   "cell_type": "code",
   "execution_count": 26,
   "id": "a6f45171",
   "metadata": {},
   "outputs": [
    {
     "name": "stdout",
     "output_type": "stream",
     "text": [
      "Cost with m =  4.83 and c = 12.00:   363.10\n"
     ]
    }
   ],
   "source": [
    "# Cost for best c and m for above data set.\n",
    "cost = lambda m,c: np.sum([(y[i] - m * x[i] - c)**2 for i in range(x.size)])\n",
    "print(\"Cost with m = %5.2f and c = %5.2f: %8.2f\" % (m,c, cost(m,c)))"
   ]
  },
  {
   "cell_type": "code",
   "execution_count": 27,
   "id": "2d0b4df2",
   "metadata": {},
   "outputs": [
    {
     "name": "stdout",
     "output_type": "stream",
     "text": [
      "Cost with m =  4.83 and c = 12.00:     0.00\n"
     ]
    }
   ],
   "source": [
    "# Cost for best c and m for above data set - absolute values.\n",
    "cost = lambda m,c: np.sum([(y[i] - m * x[i] - c) for i in range(x.size)])\n",
    "print(\"Cost with m = %5.2f and c = %5.2f: %8.2f\" % (m,c, cost(m,c)))"
   ]
  },
  {
   "cell_type": "markdown",
   "id": "ce58b974",
   "metadata": {},
   "source": [
    "With the absolute value cost function value is = 0. ( for best c and m )"
   ]
  },
  {
   "cell_type": "markdown",
   "id": "ac60d6f2",
   "metadata": {},
   "source": [
    "According to the information gained, there are more reasons for using square function than absolute value function. Also there is no clear explanation why one is better than the other. Most reasoning came to conclusion that square function is easier to solve than others. Above example is showing that with the best fitting model where squared cost will be = 363.10, with absolute value the cost will be = 0. Probably dealing with 0 is less preferable. "
   ]
  },
  {
   "cell_type": "markdown",
   "id": "ce176752",
   "metadata": {},
   "source": [
    "Below let's compare values of cost function for the same m and c value, but with two approach."
   ]
  },
  {
   "cell_type": "code",
   "execution_count": 32,
   "id": "9a16400c",
   "metadata": {},
   "outputs": [
    {
     "name": "stdout",
     "output_type": "stream",
     "text": [
      "Cost with m = 10.00 and c = 20.00: 95920.55\n"
     ]
    }
   ],
   "source": [
    "# Count for less fitting lines (squared)\n",
    "m1 = 10\n",
    "c1 = 20\n",
    "cost = lambda m1,c1: np.sum([(y[i] - m1* x[i] - c1)**2 for i in range(x.size)])\n",
    "print(\"Cost with m = %5.2f and c = %5.2f: %8.2f\" % (m1,c1, cost(m1,c1)))"
   ]
  },
  {
   "cell_type": "code",
   "execution_count": 33,
   "id": "4325321d",
   "metadata": {},
   "outputs": [
    {
     "name": "stdout",
     "output_type": "stream",
     "text": [
      "Cost with m = 10.00 and c = 20.00: -1254.52\n"
     ]
    }
   ],
   "source": [
    "# Count for less fitting lines (absolute)\n",
    "m1 = 10\n",
    "c1 = 20\n",
    "cost = lambda m1,c1: np.sum([(y[i] - m1* x[i] - c1) for i in range(x.size)])\n",
    "print(\"Cost with m = %5.2f and c = %5.2f: %8.2f\" % (m1,c1, cost(m1,c1)))"
   ]
  },
  {
   "cell_type": "code",
   "execution_count": 34,
   "id": "2052024b",
   "metadata": {},
   "outputs": [
    {
     "name": "stdout",
     "output_type": "stream",
     "text": [
      "Cost with m =  2.00 and c =  4.00: 34124.28\n"
     ]
    }
   ],
   "source": [
    "# Count for overfitting (squared)\n",
    "m1 = 2\n",
    "c1 = 4\n",
    "cost = lambda m1,c1: np.sum([(y[i] - m1* x[i] - c1)**2 for i in range(x.size)])\n",
    "print(\"Cost with m = %5.2f and c = %5.2f: %8.2f\" % (m1,c1, cost(m1,c1)))"
   ]
  },
  {
   "cell_type": "code",
   "execution_count": 35,
   "id": "fcf3bad4",
   "metadata": {},
   "outputs": [
    {
     "name": "stdout",
     "output_type": "stream",
     "text": [
      "Cost with m =  2.00 and c =  4.00:   761.48\n"
     ]
    }
   ],
   "source": [
    "# Count for overfitting (absolute)\n",
    "m1 = 2\n",
    "c1 = 4\n",
    "cost = lambda m1,c1: np.sum([(y[i] - m1* x[i] - c1) for i in range(x.size)])\n",
    "print(\"Cost with m = %5.2f and c = %5.2f: %8.2f\" % (m1,c1, cost(m1,c1)))"
   ]
  },
  {
   "cell_type": "code",
   "execution_count": 36,
   "id": "d399183d",
   "metadata": {},
   "outputs": [
    {
     "name": "stdout",
     "output_type": "stream",
     "text": [
      "Cost with m =  5.00 and c = 15.00:   858.04\n"
     ]
    }
   ],
   "source": [
    "# Count for close to best model (squared)\n",
    "m1 = 5\n",
    "c1 = 15\n",
    "cost = lambda m1,c1: np.sum([(y[i] - m1* x[i] - c1)**2 for i in range(x.size)])\n",
    "print(\"Cost with m = %5.2f and c = %5.2f: %8.2f\" % (m1,c1, cost(m1,c1)))"
   ]
  },
  {
   "cell_type": "code",
   "execution_count": 37,
   "id": "550398b4",
   "metadata": {},
   "outputs": [
    {
     "name": "stdout",
     "output_type": "stream",
     "text": [
      "Cost with m =  5.00 and c = 15.00:   -99.52\n"
     ]
    }
   ],
   "source": [
    "# Count for close to best model (absolute)\n",
    "m1 = 5\n",
    "c1 = 15\n",
    "cost = lambda m1,c1: np.sum([(y[i] - m1* x[i] - c1) for i in range(x.size)])\n",
    "print(\"Cost with m = %5.2f and c = %5.2f: %8.2f\" % (m1,c1, cost(m1,c1)))"
   ]
  },
  {
   "cell_type": "code",
   "execution_count": null,
   "id": "8bbd8be5",
   "metadata": {},
   "outputs": [],
   "source": []
  },
  {
   "cell_type": "code",
   "execution_count": null,
   "id": "849624b4",
   "metadata": {},
   "outputs": [],
   "source": []
  }
 ],
 "metadata": {
  "kernelspec": {
   "display_name": "Python 3",
   "language": "python",
   "name": "python3"
  },
  "language_info": {
   "codemirror_mode": {
    "name": "ipython",
    "version": 3
   },
   "file_extension": ".py",
   "mimetype": "text/x-python",
   "name": "python",
   "nbconvert_exporter": "python",
   "pygments_lexer": "ipython3",
   "version": "3.8.8"
  }
 },
 "nbformat": 4,
 "nbformat_minor": 5
}
