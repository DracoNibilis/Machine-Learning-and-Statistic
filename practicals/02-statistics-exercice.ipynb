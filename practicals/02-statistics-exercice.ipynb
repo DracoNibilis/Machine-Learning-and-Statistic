{
 "cells": [
  {
   "cell_type": "markdown",
   "id": "93ebb087",
   "metadata": {},
   "source": [
    "<h3 style=\"color: #001a79;\">Exercise 2.0</h3>\n",
    "<h3 style=\"color: #001a79;\">Plot the absolute value function </h3>\n",
    "<hr style=\"border-top: 1px solid #001a79;\" />"
   ]
  },
  {
   "cell_type": "markdown",
   "id": "db762341",
   "metadata": {},
   "source": [
    "Use numpy and matplotlib. Research and explain why the absolute value function is not tipically used in fitting straight lines to data."
   ]
  },
  {
   "cell_type": "code",
   "execution_count": 2,
   "id": "b132fb38",
   "metadata": {},
   "outputs": [],
   "source": [
    "# Import needed modules.\n",
    "import numpy as np\n",
    "import matplotlib.pyplot as plt"
   ]
  },
  {
   "cell_type": "code",
   "execution_count": 4,
   "id": "e6f702d8",
   "metadata": {},
   "outputs": [
    {
     "data": {
      "text/plain": [
       "array([ 0.,  1.,  2.,  3.,  4.,  5.,  6.,  7.,  8.,  9., 10., 11., 12.,\n",
       "       13., 14., 15., 16., 17., 18., 19., 20.])"
      ]
     },
     "execution_count": 4,
     "metadata": {},
     "output_type": "execute_result"
    }
   ],
   "source": [
    "# Create data set.\n",
    "x = np.arange(0.0, 21.0, 1.0)\n",
    "y = 5.0 * x + 10.0 + np.random.normal(0.0, 5.0, x.size)\n",
    "\n",
    "x"
   ]
  },
  {
   "cell_type": "code",
   "execution_count": 5,
   "id": "a49c455a",
   "metadata": {},
   "outputs": [
    {
     "data": {
      "text/plain": [
       "array([ 13.45969937,   9.23512779,  21.04391609,  31.72701949,\n",
       "        21.12224806,  36.35900372,  38.65995658,  49.33437597,\n",
       "        55.3786013 ,  56.69036103,  58.62309252,  66.60263869,\n",
       "        60.30144115,  75.68435198,  81.56599784,  72.59928003,\n",
       "        85.32059272, 100.51678921, 104.97154695, 106.90116719,\n",
       "       107.353005  ])"
      ]
     },
     "execution_count": 5,
     "metadata": {},
     "output_type": "execute_result"
    }
   ],
   "source": [
    "y"
   ]
  },
  {
   "cell_type": "code",
   "execution_count": 6,
   "id": "12b344dd",
   "metadata": {},
   "outputs": [
    {
     "data": {
      "image/png": "[encoded data removed]",
      "text/plain": [
       "<Figure size 432x288 with 1 Axes>"
      ]
     },
     "metadata": {
      "needs_background": "light"
     },
     "output_type": "display_data"
    }
   ],
   "source": [
    "# Create the plot.\n",
    "plt.plot(x, y, 'k.')\n",
    "\n",
    "# Set some properties for the plot.\n",
    "plt.xlabel('Weight (KG)')\n",
    "plt.ylabel('Distance (CM)')\n",
    "\n",
    "# Show the plot.\n",
    "plt.show()"
   ]
  },
  {
   "cell_type": "code",
   "execution_count": 9,
   "id": "e8428901",
   "metadata": {},
   "outputs": [
    {
     "name": "stdout",
     "output_type": "stream",
     "text": [
      "m is 4.945065 and c is 10.237452\n"
     ]
    }
   ],
   "source": [
    "# Calculate the best values for m a nd c.\n",
    "\n",
    "#Calculate the means of x and y.\n",
    "x_avg = np.mean(x)\n",
    "y_avg = np.mean(y)\n",
    "\n",
    "# Substract means from x and y.\n",
    "x_zero = x - x_avg\n",
    "y_zero = y - y_avg\n",
    "\n",
    "# Find the best m value.\n",
    "m = np.sum(x_zero * y_zero) / np.sum(x_zero * x_zero)\n",
    "\n",
    "# Calculate the best c value.\n",
    "c = y_avg - m * x_avg\n",
    "\n",
    "print(\"m is %8.6f and c is %6.6f\" %(m,c))"
   ]
  },
  {
   "cell_type": "code",
   "execution_count": 10,
   "id": "28ff69fb",
   "metadata": {},
   "outputs": [
    {
     "data": {
      "image/png": "[encoded data removed]",
      "text/plain": [
       "<Figure size 432x288 with 1 Axes>"
      ]
     },
     "metadata": {
      "needs_background": "light"
     },
     "output_type": "display_data"
    }
   ],
   "source": [
    "# Plot the best fit line.\n",
    "plt.plot(x,y, \"k.\", label=\"Original Data\")\n",
    "plt.plot(x, m*x + c, \"b-\", label=\"Best fit line\")\n",
    "\n",
    "# Add axis labels and a legend. \n",
    "plt.xlabel(\"X values\")\n",
    "plt.ylabel(\"Y values\")\n",
    "plt.legend\n",
    "\n",
    "# Show the plot.\n",
    "plt.show()"
   ]
  },
  {
   "cell_type": "code",
   "execution_count": 13,
   "id": "a6f45171",
   "metadata": {},
   "outputs": [
    {
     "name": "stdout",
     "output_type": "stream",
     "text": [
      "Cost with m =  4.95 and c = 10.24:   563.10\n"
     ]
    }
   ],
   "source": [
    "# Cost for best c and m for above data set.\n",
    "cost = lambda m,c: np.sum([(y[i] - m * x[i] - c)**2 for i in range(x.size)])\n",
    "print(\"Cost with m = %5.2f and c = %5.2f: %8.2f\" % (m,c, cost(m,c)))"
   ]
  },
  {
   "cell_type": "code",
   "execution_count": 14,
   "id": "8013866d",
   "metadata": {},
   "outputs": [
    {
     "name": "stdout",
     "output_type": "stream",
     "text": [
      "Cost with m =  4.95 and c = 10.24:     0.00\n"
     ]
    }
   ],
   "source": [
    "# Cost for best c and m for above data set - absolute values.\n",
    "cost = lambda m,c: np.sum([(y[i] - m * x[i] - c) for i in range(x.size)])\n",
    "print(\"Cost with m = %5.2f and c = %5.2f: %8.2f\" % (m,c, cost(m,c)))"
   ]
  },
  {
   "cell_type": "code",
   "execution_count": 15,
   "id": "c6e417bb",
   "metadata": {},
   "outputs": [
    {
     "name": "stdout",
     "output_type": "stream",
     "text": [
      "Cost with m = 10.00 and c = 20.00: -1266.55\n"
     ]
    }
   ],
   "source": [
    "# Count for less fitting lines\n",
    "m1 = 10\n",
    "c1 = 20\n",
    "cost = lambda m1,c1: np.sum([(y[i] - m1* x[i] - c1) for i in range(x.size)])\n",
    "print(\"Cost with m = %5.2f and c = %5.2f: %8.2f\" % (m1,c1, cost(m1,c1)))"
   ]
  },
  {
   "cell_type": "code",
   "execution_count": 16,
   "id": "3884f45e",
   "metadata": {},
   "outputs": [
    {
     "name": "stdout",
     "output_type": "stream",
     "text": [
      "Cost with m =  2.00 and c =  4.00:   749.45\n"
     ]
    }
   ],
   "source": [
    "m1 = 2\n",
    "c1 = 4\n",
    "cost = lambda m1,c1: np.sum([(y[i] - m1* x[i] - c1) for i in range(x.size)])\n",
    "print(\"Cost with m = %5.2f and c = %5.2f: %8.2f\" % (m1,c1, cost(m1,c1)))"
   ]
  },
  {
   "cell_type": "code",
   "execution_count": 17,
   "id": "50578135",
   "metadata": {},
   "outputs": [
    {
     "name": "stdout",
     "output_type": "stream",
     "text": [
      "Cost with m =  5.00 and c = 15.00:  -111.55\n"
     ]
    }
   ],
   "source": [
    "m1 = 5\n",
    "c1 = 15\n",
    "cost = lambda m1,c1: np.sum([(y[i] - m1* x[i] - c1) for i in range(x.size)])\n",
    "print(\"Cost with m = %5.2f and c = %5.2f: %8.2f\" % (m1,c1, cost(m1,c1)))"
   ]
  },
  {
   "cell_type": "code",
   "execution_count": null,
   "id": "387903ba",
   "metadata": {},
   "outputs": [],
   "source": []
  },
  {
   "cell_type": "code",
   "execution_count": null,
   "id": "60754aca",
   "metadata": {},
   "outputs": [],
   "source": []
  },
  {
   "cell_type": "code",
   "execution_count": null,
   "id": "1c574448",
   "metadata": {},
   "outputs": [],
   "source": []
  }
 ],
 "metadata": {
  "kernelspec": {
   "display_name": "Python 3",
   "language": "python",
   "name": "python3"
  },
  "language_info": {
   "codemirror_mode": {
    "name": "ipython",
    "version": 3
   },
   "file_extension": ".py",
   "mimetype": "text/x-python",
   "name": "python",
   "nbconvert_exporter": "python",
   "pygments_lexer": "ipython3",
   "version": "3.8.8"
  }
 },
 "nbformat": 4,
 "nbformat_minor": 5
}
