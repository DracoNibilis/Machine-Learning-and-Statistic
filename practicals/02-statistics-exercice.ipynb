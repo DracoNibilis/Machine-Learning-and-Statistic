{
 "cells": [
  {
   "cell_type": "markdown",
   "id": "93ebb087",
   "metadata": {},
   "source": [
    "<h3 style=\"color: #001a79;\">Exercise 2.0</h3>\n",
    "<h3 style=\"color: #001a79;\">Plot the absolute value function </h3>\n",
    "<hr style=\"border-top: 1px solid #001a79;\" />"
   ]
  },
  {
   "cell_type": "markdown",
   "id": "db762341",
   "metadata": {},
   "source": [
    "Use numpy and matplotlib. Research and explain why the absolute value function is not tipically used in fitting straight lines to data."
   ]
  },
  {
   "cell_type": "markdown",
   "id": "16cae433",
   "metadata": {},
   "source": [
    " - Add regular function \n",
    " - plot data\n",
    " - plot absolute value\n",
    " - explain "
   ]
  },
  {
   "cell_type": "code",
   "execution_count": null,
   "id": "b132fb38",
   "metadata": {},
   "outputs": [],
   "source": []
  },
  {
   "cell_type": "code",
   "execution_count": null,
   "id": "e6f702d8",
   "metadata": {},
   "outputs": [],
   "source": []
  },
  {
   "cell_type": "code",
   "execution_count": null,
   "id": "a49c455a",
   "metadata": {},
   "outputs": [],
   "source": []
  },
  {
   "cell_type": "code",
   "execution_count": null,
   "id": "12b344dd",
   "metadata": {},
   "outputs": [],
   "source": []
  },
  {
   "cell_type": "code",
   "execution_count": null,
   "id": "e8428901",
   "metadata": {},
   "outputs": [],
   "source": []
  },
  {
   "cell_type": "code",
   "execution_count": null,
   "id": "28ff69fb",
   "metadata": {},
   "outputs": [],
   "source": []
  },
  {
   "cell_type": "code",
   "execution_count": null,
   "id": "a6f45171",
   "metadata": {},
   "outputs": [],
   "source": []
  }
 ],
 "metadata": {
  "kernelspec": {
   "display_name": "Python 3",
   "language": "python",
   "name": "python3"
  },
  "language_info": {
   "codemirror_mode": {
    "name": "ipython",
    "version": 3
   },
   "file_extension": ".py",
   "mimetype": "text/x-python",
   "name": "python",
   "nbconvert_exporter": "python",
   "pygments_lexer": "ipython3",
   "version": "3.8.8"
  }
 },
 "nbformat": 4,
 "nbformat_minor": 5
}
