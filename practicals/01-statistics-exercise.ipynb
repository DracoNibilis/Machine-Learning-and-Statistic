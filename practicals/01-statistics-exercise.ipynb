{
 "cells": [
  {
   "cell_type": "markdown",
   "id": "afe39ed9",
   "metadata": {},
   "source": [
    "<h3 style=\"color: #001a79;\">Exercise 1.1</h3>\n",
    "<h3 style=\"color: #001a79;\">Lady Tasting Tea </h3>\n",
    "<hr style=\"border-top: 1px solid #001a79;\" />"
   ]
  },
  {
   "cell_type": "markdown",
   "id": "d8a949d6",
   "metadata": {},
   "source": [
    "While choosing 4 cups out of 8 gives about a 1.5% chance randomly selecting correct cups, calculate the minimum number of cups of tea required to ensure the probability of randomly selecting the correct cups is less than or equal to 1%."
   ]
  },
  {
   "cell_type": "code",
   "execution_count": 54,
   "id": "49c9f9ca",
   "metadata": {},
   "outputs": [],
   "source": [
    "# Math module\n",
    "import math"
   ]
  },
  {
   "cell_type": "markdown",
   "id": "b3f9e273",
   "metadata": {},
   "source": [
    "Check the probability of randomly selecting 4 coups out of 8."
   ]
  },
  {
   "cell_type": "code",
   "execution_count": 55,
   "id": "4c18d4b4",
   "metadata": {},
   "outputs": [
    {
     "data": {
      "text/plain": [
       "70"
      ]
     },
     "execution_count": 55,
     "metadata": {},
     "output_type": "execute_result"
    }
   ],
   "source": [
    "# Number of ways of selecting 4 cups from 8.\n",
    "math.comb(8,4)"
   ]
  },
  {
   "cell_type": "code",
   "execution_count": 56,
   "id": "10dc4b29",
   "metadata": {},
   "outputs": [
    {
     "data": {
      "text/plain": [
       "0.014285714285714285"
      ]
     },
     "execution_count": 56,
     "metadata": {},
     "output_type": "execute_result"
    }
   ],
   "source": [
    "# Probability of randomly selecting correct 4 cups is:   (around 1%)\n",
    "1.0 / math.comb(8,4)"
   ]
  },
  {
   "cell_type": "markdown",
   "id": "81383780",
   "metadata": {},
   "source": [
    "Check number of possible combination of choices with 10 cups."
   ]
  },
  {
   "cell_type": "code",
   "execution_count": 57,
   "id": "645be238",
   "metadata": {},
   "outputs": [
    {
     "data": {
      "text/plain": [
       "252"
      ]
     },
     "execution_count": 57,
     "metadata": {},
     "output_type": "execute_result"
    }
   ],
   "source": [
    "# Number of ways selecting 5 cups from 10.\n",
    "math.comb(10,5)"
   ]
  },
  {
   "cell_type": "code",
   "execution_count": 58,
   "id": "d80d1b6d",
   "metadata": {},
   "outputs": [
    {
     "data": {
      "text/plain": [
       "0.003968253968253968"
      ]
     },
     "execution_count": 58,
     "metadata": {},
     "output_type": "execute_result"
    }
   ],
   "source": [
    "# Probability of randomly selecting correct 5 cups is:   (less than 1%)\n",
    "1.0 / math.comb(10,5)"
   ]
  },
  {
   "cell_type": "markdown",
   "id": "d518824d",
   "metadata": {},
   "source": [
    "Check the other combinations close to given example.\n",
    "Choosing 6 cups out of 12.\n",
    "Choosing 3 cups out of 6."
   ]
  },
  {
   "cell_type": "code",
   "execution_count": 59,
   "id": "1639831d",
   "metadata": {},
   "outputs": [
    {
     "data": {
      "text/plain": [
       "0.0010822510822510823"
      ]
     },
     "execution_count": 59,
     "metadata": {},
     "output_type": "execute_result"
    }
   ],
   "source": [
    "# Probability of randomly selecting correct 6 cups is:   (much less than 1%)\n",
    "1.0 / math.comb(12,6)"
   ]
  },
  {
   "cell_type": "code",
   "execution_count": 60,
   "id": "83ad25be",
   "metadata": {},
   "outputs": [
    {
     "data": {
      "text/plain": [
       "0.05"
      ]
     },
     "execution_count": 60,
     "metadata": {},
     "output_type": "execute_result"
    }
   ],
   "source": [
    "# Probability of randomly selecting correct 3 cups is:   (more than 1%)\n",
    "1.0 / math.comb(6,3)"
   ]
  },
  {
   "cell_type": "markdown",
   "id": "8e8a2a78",
   "metadata": {},
   "source": [
    "So, if experiment was done with less cups (choosing 3 out of 6), chance to choose correctly randomly is much higher than 1%.\n",
    "If experiment was done with 10 cups (choosing 5 out of 10), chance to choose correctly randomly is lower than 1%. \n",
    "Just for testing purpouse, after conducting experiment with 12 cups (choosing 6 out of 12), chance to choose correctly randomly is much lower than 1%.\n",
    "NOTE: All experiment designed to choose equal number of cups.\n",
    "<hr style=\"border-top: 1px solid #001a79;\" />"
   ]
  },
  {
   "cell_type": "markdown",
   "id": "dd017b71",
   "metadata": {},
   "source": [
    "Bonus: How many would be required if you were to let the taster get one cup wrong while maintaining the 1% threshold?"
   ]
  },
  {
   "cell_type": "markdown",
   "id": "074f878c",
   "metadata": {},
   "source": [
    "<h3 style=\"color: #001a79;\">Exercise 1.2</h3>\n",
    "<h3 style=\"color: #001a79;\">Fisher's exact test</h3>\n",
    "<hr style=\"border-top: 1px solid #001a79;\" />"
   ]
  },
  {
   "cell_type": "markdown",
   "id": "70117f2b",
   "metadata": {},
   "source": [
    "According to https://www.geeksforgeeks.org/how-to-perform-fishers-exact-test-in-python/\n",
    "Fisher’s exact test is a statistical test that determines if two category variables have non-random connections or we can say it’s used to check whether two category variables have a significant relationship.\n",
    "Also good overview of Fisher's Exact Test can be found here:\n",
    "https://www.youtube.com/watch?v=I9KsLCc-eiQ\n"
   ]
  },
  {
   "cell_type": "markdown",
   "id": "7f8b00cc",
   "metadata": {},
   "source": [
    "Import <b>scipy.stats</b> library to be able to use fisher exact test code.\n",
    "Documentation used is available under that link:\n",
    "[scipy's documentation of Fisher's exact test](https://docs.scipy.org/doc/scipy/reference/generated/scipy.stats.fisher_exact.html)"
   ]
  },
  {
   "cell_type": "code",
   "execution_count": 61,
   "id": "be99f523",
   "metadata": {},
   "outputs": [],
   "source": [
    "# Import scipy.stats module\n",
    "import scipy.stats as ss\n",
    "\n",
    "# Import numpy module\n",
    "import numpy as np"
   ]
  },
  {
   "cell_type": "markdown",
   "id": "7800c1ef",
   "metadata": {},
   "source": [
    "Values used for fisher_exact function will represent exact right choices of correct tea.\n",
    "\n",
    "\t\tTea\t\tMilk \n",
    "> Tea\t<code>    </code> \t4\t<code>    </code> \t0 \n",
    "\n",
    "> Milk\t  <code>    </code>   0\t<code>    </code> \t4 \n",
    "\n",
    "\n",
    "Which indicates that four tea where milk was firt were choose correctly and four tea with tea first were choose correcty."
   ]
  },
  {
   "cell_type": "code",
   "execution_count": 62,
   "id": "28f479d6",
   "metadata": {},
   "outputs": [],
   "source": [
    "# Use fisher_exact function for Tea Tasting Problem\n",
    "oddsratio, pvalue = ss.fisher_exact([[4,0], [0,4]])"
   ]
  },
  {
   "cell_type": "code",
   "execution_count": 63,
   "id": "de81b5d5",
   "metadata": {},
   "outputs": [
    {
     "data": {
      "text/plain": [
       "0.028571428571428536"
      ]
     },
     "execution_count": 63,
     "metadata": {},
     "output_type": "execute_result"
    }
   ],
   "source": [
    "# Check pvalue\n",
    "pvalue"
   ]
  },
  {
   "cell_type": "markdown",
   "id": "50d21020",
   "metadata": {},
   "source": [
    "P-value lover than 0.05 means  that our observed imbalance is statistically significant."
   ]
  },
  {
   "cell_type": "code",
   "execution_count": 64,
   "id": "b38a3007",
   "metadata": {
    "scrolled": true
   },
   "outputs": [
    {
     "data": {
      "text/plain": [
       "inf"
      ]
     },
     "execution_count": 64,
     "metadata": {},
     "output_type": "execute_result"
    }
   ],
   "source": [
    "# Check oddsratio value\n",
    "oddsratio"
   ]
  },
  {
   "cell_type": "markdown",
   "id": "6872e714",
   "metadata": {},
   "source": [
    "Note that probability of randomly selecting correct 4 cups is:   (around 1%) <br>\n",
    "1.0 / **math.comb**(8,4) = 0.014285714285714285, <br>\n",
    "while result of our **Fisher's exact test** is p = 0.028571428571428536"
   ]
  },
  {
   "cell_type": "markdown",
   "id": "6fe06ed6",
   "metadata": {},
   "source": [
    "Seems like result from **fisher's exact test** is **double** than one we get from **comb** method. "
   ]
  },
  {
   "cell_type": "markdown",
   "id": "ec69ad88",
   "metadata": {},
   "source": [
    "Lets use alternative parameters which are available for **fisher_exact** function.\n",
    "According to documentation: <br>\n",
    "https://docs.scipy.org/doc/scipy/reference/generated/scipy.stats.fisher_exact.html\n",
    "<br>\n",
    "We have 3 optional parameters:\n",
    "\n",
    "        ‘two-sided’: the odds ratio of the underlying population is not one\n",
    "\n",
    "        ‘less’: the odds ratio of the underlying population is less than one\n",
    "\n",
    "        ‘greater’: the odds ratio of the underlying population is greater than one\n"
   ]
  },
  {
   "cell_type": "code",
   "execution_count": 65,
   "id": "990bc8fc",
   "metadata": {},
   "outputs": [],
   "source": [
    "# Create table for use in function.\n",
    "table = np.array([[4, 0], [0, 4]])"
   ]
  },
  {
   "cell_type": "code",
   "execution_count": 66,
   "id": "14d62995",
   "metadata": {},
   "outputs": [],
   "source": [
    "# Use fisher_exact with alternative parameter - \"two-sided\"\n",
    "oddsr, p = ss.fisher_exact(table, alternative='two-sided')"
   ]
  },
  {
   "cell_type": "code",
   "execution_count": 67,
   "id": "9762a8ae",
   "metadata": {},
   "outputs": [
    {
     "data": {
      "text/plain": [
       "0.028571428571428536"
      ]
     },
     "execution_count": 67,
     "metadata": {},
     "output_type": "execute_result"
    }
   ],
   "source": [
    "p"
   ]
  },
  {
   "cell_type": "markdown",
   "id": "1a22656c",
   "metadata": {},
   "source": [
    "P-value is the same like we get after use of **fisher_exact** function without alternative parameter. "
   ]
  },
  {
   "cell_type": "code",
   "execution_count": 68,
   "id": "8797549a",
   "metadata": {},
   "outputs": [],
   "source": [
    "# Use of fisher_exact with alternative parameter - \"greater\"\n",
    "oddsr, p = ss.fisher_exact(table, alternative='greater')"
   ]
  },
  {
   "cell_type": "code",
   "execution_count": 69,
   "id": "5e8aeb41",
   "metadata": {},
   "outputs": [
    {
     "data": {
      "text/plain": [
       "0.014285714285714268"
      ]
     },
     "execution_count": 69,
     "metadata": {},
     "output_type": "execute_result"
    }
   ],
   "source": [
    "p"
   ]
  },
  {
   "cell_type": "markdown",
   "id": "b7641c3d",
   "metadata": {},
   "source": [
    "P-value which we get is the same like value that we gain after use of **comb** method. "
   ]
  },
  {
   "cell_type": "code",
   "execution_count": 70,
   "id": "c6400315",
   "metadata": {},
   "outputs": [
    {
     "data": {
      "text/plain": [
       "inf"
      ]
     },
     "execution_count": 70,
     "metadata": {},
     "output_type": "execute_result"
    }
   ],
   "source": [
    "oddsr"
   ]
  },
  {
   "cell_type": "markdown",
   "id": "70769d12",
   "metadata": {},
   "source": [
    "Note: in each case we gain **oddsr** = inf.\n",
    "<br>\n",
    "According to https://www.biostars.org/p/333354/ that means that our lists of values are highly dependent. <br>\n",
    "According to other source https://stats.stackexchange.com/questions/476332/what-is-the-value-of-an-infinite-odds-ratios-with-non-signification-p-value\n",
    "The Inf does not designate an infinite odds ratio--it's simply a way of stating there is no upper confidence limit. In other words, there is 95% confidence that the odds ratio exceeds 0.014285714285714268.\n"
   ]
  },
  {
   "cell_type": "markdown",
   "id": "16ab749b",
   "metadata": {},
   "source": [
    "<hr style=\"border-top: 1px solid #001a79;\" />\n",
    "<hr style=\"border-top: 1px solid #001a79;\" />"
   ]
  }
 ],
 "metadata": {
  "kernelspec": {
   "display_name": "Python 3",
   "language": "python",
   "name": "python3"
  },
  "language_info": {
   "codemirror_mode": {
    "name": "ipython",
    "version": 3
   },
   "file_extension": ".py",
   "mimetype": "text/x-python",
   "name": "python",
   "nbconvert_exporter": "python",
   "pygments_lexer": "ipython3",
   "version": "3.8.8"
  }
 },
 "nbformat": 4,
 "nbformat_minor": 5
}
