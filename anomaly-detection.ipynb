{
 "cells": [
  {
   "cell_type": "markdown",
   "id": "ea1d6868",
   "metadata": {},
   "source": [
    "***\n",
    "# Timeseries anomaly detection.\n",
    "\n",
    "Below script demonstrates use of keras library to show a reconstruction convolutional autoencoder model for detecting anomalies in timeseries data.\n"
   ]
  },
  {
   "cell_type": "markdown",
   "id": "f25aef97",
   "metadata": {},
   "source": [
    "Based on the website:\n",
    "\n",
    "https://keras.io/examples/timeseries/timeseries_anomaly_detection/\n",
    "\n",
    "File used from keggle website:\n",
    "\n",
    "https://www.kaggle.com/datasets/boltzmannbrain/nab\n"
   ]
  },
  {
   "cell_type": "markdown",
   "id": "417bb7eb",
   "metadata": {},
   "source": [
    "In model is used Numenta Anomaly Benchmark(NAB) dataset. It provides artifical timeseries data containing labeled anomalous periods of behavior. Data are ordered, timestamped, single-valued metrics.\n",
    "According to keggle website, The Numenta Anomaly Benchmark (NAB) is a novel benchmark for evaluating algorithms for anomaly detection in streaming, online applications. It is comprised of over 50 labeled real-world and artificial timeseries data files plus a novel scoring mechanism designed for real-time applications. \n",
    "Some of available datasets are: AWS server metrics, online advertisement clicking rates, temperature sensor, real time traffic data and more.\n",
    "\n",
    "In case of presented below model,artificial datasets are used:\n",
    "- art_daily_small_noise.csv -  for training\n",
    "- art_daily_jumpsup.csv  - for testing\n",
    "\n",
    "More information and datasets is available on the NAB github page https://github.com/numenta/NAB "
   ]
  },
  {
   "cell_type": "markdown",
   "id": "d578af3f",
   "metadata": {},
   "source": [
    "****"
   ]
  },
  {
   "cell_type": "code",
   "execution_count": null,
   "id": "6fd2ba08",
   "metadata": {},
   "outputs": [],
   "source": []
  },
  {
   "cell_type": "markdown",
   "id": "6bcf757f",
   "metadata": {},
   "source": [
    "### Import modules and load data sets.\n",
    "***"
   ]
  },
  {
   "cell_type": "code",
   "execution_count": 1,
   "id": "fd4a7d23",
   "metadata": {},
   "outputs": [],
   "source": [
    "# Numerical arrays.\n",
    "import numpy as np\n",
    "\n",
    "# Spread-sheet-like Data Frames.\n",
    "import pandas as pd\n",
    "\n",
    "# Neural networks.\n",
    "import tensorflow.keras as keras\n",
    "\n",
    "# Plotting.\n",
    "import matplotlib.pyplot as plt"
   ]
  },
  {
   "cell_type": "code",
   "execution_count": 2,
   "id": "4ed2e2de",
   "metadata": {},
   "outputs": [],
   "source": [
    "# Get urls for datasets.\n",
    "master_url_root = \"https://raw.githubusercontent.com/numenta/NAB/master/data/\"\n",
    "\n",
    "# Dataset with anomaly.\n",
    "with_anomaly_url = \"artificialWithAnomaly/art_daily_jumpsup.csv\"\n",
    "\n",
    "# Dataset without anomaly.\n",
    "no_anomaly_url = \"artificialNoAnomaly/art_daily_small_noise.csv\""
   ]
  },
  {
   "cell_type": "code",
   "execution_count": 3,
   "id": "6833827f",
   "metadata": {},
   "outputs": [],
   "source": [
    "# Read csv dataset with anomaly from url by Pandas.\n",
    "df_anomaly_url = master_url_root + with_anomaly_url\n",
    "df_anomaly = pd.read_csv(df_anomaly_url, parse_dates=True, index_col=\"timestamp\")"
   ]
  },
  {
   "cell_type": "code",
   "execution_count": 4,
   "id": "6224ea23",
   "metadata": {},
   "outputs": [
    {
     "data": {
      "text/html": [
       "<div>\n",
       "<style scoped>\n",
       "    .dataframe tbody tr th:only-of-type {\n",
       "        vertical-align: middle;\n",
       "    }\n",
       "\n",
       "    .dataframe tbody tr th {\n",
       "        vertical-align: top;\n",
       "    }\n",
       "\n",
       "    .dataframe thead th {\n",
       "        text-align: right;\n",
       "    }\n",
       "</style>\n",
       "<table border=\"1\" class=\"dataframe\">\n",
       "  <thead>\n",
       "    <tr style=\"text-align: right;\">\n",
       "      <th></th>\n",
       "      <th>value</th>\n",
       "    </tr>\n",
       "    <tr>\n",
       "      <th>timestamp</th>\n",
       "      <th></th>\n",
       "    </tr>\n",
       "  </thead>\n",
       "  <tbody>\n",
       "    <tr>\n",
       "      <th>2014-04-01 00:00:00</th>\n",
       "      <td>19.761252</td>\n",
       "    </tr>\n",
       "    <tr>\n",
       "      <th>2014-04-01 00:05:00</th>\n",
       "      <td>20.500833</td>\n",
       "    </tr>\n",
       "    <tr>\n",
       "      <th>2014-04-01 00:10:00</th>\n",
       "      <td>19.961641</td>\n",
       "    </tr>\n",
       "    <tr>\n",
       "      <th>2014-04-01 00:15:00</th>\n",
       "      <td>21.490266</td>\n",
       "    </tr>\n",
       "    <tr>\n",
       "      <th>2014-04-01 00:20:00</th>\n",
       "      <td>20.187739</td>\n",
       "    </tr>\n",
       "  </tbody>\n",
       "</table>\n",
       "</div>"
      ],
      "text/plain": [
       "                         value\n",
       "timestamp                     \n",
       "2014-04-01 00:00:00  19.761252\n",
       "2014-04-01 00:05:00  20.500833\n",
       "2014-04-01 00:10:00  19.961641\n",
       "2014-04-01 00:15:00  21.490266\n",
       "2014-04-01 00:20:00  20.187739"
      ]
     },
     "execution_count": 4,
     "metadata": {},
     "output_type": "execute_result"
    }
   ],
   "source": [
    "# Check dataset.\n",
    "df_anomaly.head()"
   ]
  },
  {
   "cell_type": "code",
   "execution_count": 5,
   "id": "8eb1619f",
   "metadata": {},
   "outputs": [],
   "source": [
    "# Read csv dataset without anomaly from url by Pandas.\n",
    "df_no_anomaly_url = master_url_root + no_anomaly_url\n",
    "df_no_anomaly = pd.read_csv(df_no_anomaly_url, parse_dates=True, index_col=\"timestamp\")"
   ]
  },
  {
   "cell_type": "code",
   "execution_count": 6,
   "id": "9e0e26d9",
   "metadata": {},
   "outputs": [
    {
     "data": {
      "text/html": [
       "<div>\n",
       "<style scoped>\n",
       "    .dataframe tbody tr th:only-of-type {\n",
       "        vertical-align: middle;\n",
       "    }\n",
       "\n",
       "    .dataframe tbody tr th {\n",
       "        vertical-align: top;\n",
       "    }\n",
       "\n",
       "    .dataframe thead th {\n",
       "        text-align: right;\n",
       "    }\n",
       "</style>\n",
       "<table border=\"1\" class=\"dataframe\">\n",
       "  <thead>\n",
       "    <tr style=\"text-align: right;\">\n",
       "      <th></th>\n",
       "      <th>value</th>\n",
       "    </tr>\n",
       "    <tr>\n",
       "      <th>timestamp</th>\n",
       "      <th></th>\n",
       "    </tr>\n",
       "  </thead>\n",
       "  <tbody>\n",
       "    <tr>\n",
       "      <th>2014-04-01 00:00:00</th>\n",
       "      <td>18.324919</td>\n",
       "    </tr>\n",
       "    <tr>\n",
       "      <th>2014-04-01 00:05:00</th>\n",
       "      <td>21.970327</td>\n",
       "    </tr>\n",
       "    <tr>\n",
       "      <th>2014-04-01 00:10:00</th>\n",
       "      <td>18.624806</td>\n",
       "    </tr>\n",
       "    <tr>\n",
       "      <th>2014-04-01 00:15:00</th>\n",
       "      <td>21.953684</td>\n",
       "    </tr>\n",
       "    <tr>\n",
       "      <th>2014-04-01 00:20:00</th>\n",
       "      <td>21.909120</td>\n",
       "    </tr>\n",
       "  </tbody>\n",
       "</table>\n",
       "</div>"
      ],
      "text/plain": [
       "                         value\n",
       "timestamp                     \n",
       "2014-04-01 00:00:00  18.324919\n",
       "2014-04-01 00:05:00  21.970327\n",
       "2014-04-01 00:10:00  18.624806\n",
       "2014-04-01 00:15:00  21.953684\n",
       "2014-04-01 00:20:00  21.909120"
      ]
     },
     "execution_count": 6,
     "metadata": {},
     "output_type": "execute_result"
    }
   ],
   "source": [
    "# Check dataset.\n",
    "df_no_anomaly.head()"
   ]
  },
  {
   "cell_type": "code",
   "execution_count": null,
   "id": "898a3e72",
   "metadata": {},
   "outputs": [],
   "source": []
  },
  {
   "cell_type": "markdown",
   "id": "ce2dd11d",
   "metadata": {},
   "source": [
    "### Visualize the data.\n",
    "***"
   ]
  },
  {
   "cell_type": "code",
   "execution_count": 7,
   "id": "18233cba",
   "metadata": {},
   "outputs": [
    {
     "data": {
      "image/png": "[encoded data removed]",
      "text/plain": [
       "<Figure size 720x288 with 1 Axes>"
      ]
     },
     "metadata": {
      "needs_background": "light"
     },
     "output_type": "display_data"
    }
   ],
   "source": [
    "# Visualize the data - timeseries without anomalies.\n",
    "fig, ax = plt.subplots(figsize=(10,4))\n",
    "df_no_anomaly.plot(legend=False, ax=ax)\n",
    "plt.show()"
   ]
  },
  {
   "cell_type": "code",
   "execution_count": 8,
   "id": "1f70d4c5",
   "metadata": {
    "scrolled": true
   },
   "outputs": [
    {
     "data": {
      "image/png": "[encoded data removed]",
      "text/plain": [
       "<Figure size 720x288 with 1 Axes>"
      ]
     },
     "metadata": {
      "needs_background": "light"
     },
     "output_type": "display_data"
    }
   ],
   "source": [
    "# Visualize the data - timeseries with anomalies.\n",
    "fig, ax = plt.subplots(figsize=(10,4))\n",
    "df_anomaly.plot(legend=False, ax=ax)\n",
    "plt.show()"
   ]
  },
  {
   "cell_type": "markdown",
   "id": "18de9180",
   "metadata": {},
   "source": [
    "### Prepare training data.\n",
    "***"
   ]
  },
  {
   "cell_type": "markdown",
   "id": "d6059a2e",
   "metadata": {},
   "source": [
    "Get data values from the training timeseries data file and normalize the value data. We have a value for every 5 mins for 14 days.\n",
    "\n",
    "    24 * 60 / 5 = 288 timesteps per day\n",
    "    288 * 14 = 4032 data points in total\n"
   ]
  },
  {
   "cell_type": "code",
   "execution_count": 10,
   "id": "43322618",
   "metadata": {},
   "outputs": [
    {
     "name": "stdout",
     "output_type": "stream",
     "text": [
      "Number of training samples:  4032\n"
     ]
    }
   ],
   "source": [
    "# Normalize and save the mean and std.\n",
    "training_mean = df_anomaly.mean()\n",
    "training_std = df_anomaly.std()\n",
    "df_training_value = (df_anomaly - training_mean) / training_std\n",
    "print(\"Number of training samples: \", len(df_training_value))"
   ]
  },
  {
   "cell_type": "markdown",
   "id": "f0426458",
   "metadata": {},
   "source": [
    "### Create sequences.\n",
    "***"
   ]
  },
  {
   "cell_type": "markdown",
   "id": "63e3db63",
   "metadata": {},
   "source": [
    "Functions used:\n",
    " - create_sequences() - create function to generate training sequences,\n",
    " - np.stack() - function that joins a sequence of arrays along a new axis."
   ]
  },
  {
   "cell_type": "code",
   "execution_count": null,
   "id": "d20fadad",
   "metadata": {},
   "outputs": [],
   "source": [
    "TIME_STEPS = 288\n",
    "\n",
    "# Generated training sequences for use in the model.\n",
    "def create_sequences(values, time_steps=TIME_STEPS):\n",
    "    output = []\n",
    "    for i in range(len(values) - time_steps + 1):\n",
    "        output.append(values[i : (i + time_steps)])\n",
    "    #print(output[0])\n",
    "    return np.stack(output)\n",
    "\n",
    "x_train = create_sequences(df_training_value.values)\n",
    "print(\"Training input shape: \", x_train.shape)\n"
   ]
  },
  {
   "cell_type": "markdown",
   "id": "f4cc50f6",
   "metadata": {},
   "source": [
    "### Build a model.\n",
    "***"
   ]
  },
  {
   "cell_type": "markdown",
   "id": "aa0285b9",
   "metadata": {},
   "source": [
    "Model used here: a convolutional reconstruction autoencoder model.\n",
    "According to the \n",
    "\n",
    "https://blog.keras.io/building-autoencoders-in-keras.html\n",
    "\n",
    "\"Autoencoding\" is a data compression algorithm where the compression and decompression functions are 1) data-specific, 2) lossy, and 3) learned automatically from examples rather than engineered by a human. Additionally, in almost all contexts where the term \"autoencoder\" is used, the compression and decompression functions are implemented with neural networks.\n",
    "To build an autoencoder, you need three things: an encoding function, a decoding function, and a distance function between the amount of information loss between the compressed representation of your data and the decompressed representation (i.e. a \"loss\" function)."
   ]
  },
  {
   "cell_type": "markdown",
   "id": "a16a0363",
   "metadata": {},
   "source": [
    "Below we use sequential function to create a model. A Sequential model is appropriate for plain stock of layers when each layer has exactly one input tensor and one output tensor. Below model has seven layers passed as a list of layers. \n",
    "\n",
    "https://keras.io/\n",
    "\n",
    "https://www.tensorflow.org/"
   ]
  },
  {
   "cell_type": "markdown",
   "id": "23f21f9f",
   "metadata": {},
   "source": [
    "Methods used on layers:\n",
    " - ***Input*** - is used to instantiate a Keras tensor. \n",
    "           Arguments in function ( bolded are used in the function below:\n",
    "                --> ***shape***: A shape tuple (integers), not including the batch size. For instance, shape=(32,) indicates that the expected input will be batches of 32-dimensional vectors. Elements of this tuple can be None; 'None' elements represent dimensions where the shape is not known.\n",
    "                --> batch_size: optional static batch size (integer).\n",
    "                --> name: An optional name string for the layer. Should be unique in a model (do not reuse the same name twice). It will be autogenerated if it isn't provided.\n",
    "                --> dtype: The data type expected by the input, as a string (float32, float64, int32...)\n",
    "                --> sparse: A boolean specifying whether the placeholder to be created is sparse. Only one of 'ragged' and 'sparse' can be True. Note that, if sparse is False, sparse tensors can still be passed into the input - they will be densified with a default value of 0.\n",
    "                --> tensor: Optional existing tensor to wrap into the Input layer. If set, the layer will use the tf.TypeSpec of this tensor rather than creating a new placeholder tensor.\n",
    "                --> ragged: A boolean specifying whether the placeholder to be created is ragged. Only one of 'ragged' and 'sparse' can be True. In this case, values of 'None' in the 'shape' argument represent ragged dimensions. For more information about RaggedTensors, see this guide.\n",
    "                --> type_spec: A tf.TypeSpec object to create the input placeholder from. When provided, all other args except name must be None.\n",
    "      Function returns: A tensor.\n",
    "      \n",
    " - ***Conv1D*** - It is 1D convolution layer. This layer creates a convolution kernel that is convolved with the layer input over a single spatial (or temporal) dimension to produce a tensor of outputs.\n",
    "             Arguments in function:\n",
    "                --> ***filters***: Integer, the dimensionality of the output space (i.e. the number of output filters in the convolution).\n",
    "                --> ***kernel_size***: An integer or tuple/list of a single integer, specifying the length of the 1D convolution window.\n",
    "                --> ***strides***: An integer or tuple/list of a single integer, specifying the stride length of the convolution. Specifying any stride value != 1 is incompatible with specifying any dilation_rate value != 1.\n",
    "                --> ***padding***: One of \"valid\", \"same\" or \"causal\" (case-insensitive). \"valid\" means no padding. \"same\" results in padding with zeros evenly to the left/right or up/down of the input such that output has the same height/width dimension as the input. \"causal\" results in causal (dilated) convolutions, e.g. output[t] does not depend on input[t+1:]. Useful when modeling temporal data where the model should not violate the temporal order. See WaveNet: A Generative Model for Raw Audio, section 2.1.\n",
    "                --> data_format: A string, one of channels_last (default) or channels_first.\n",
    "                --> dilation_rate: an integer or tuple/list of a single integer, specifying the dilation rate to use for dilated convolution. Currently, specifying any dilation_rate value != 1 is incompatible with specifying any strides value != 1.\n",
    "                --> groups: A positive integer specifying the number of groups in which the input is split along the channel axis. Each group is convolved separately with filters / groups filters. The output is the concatenation of all the groups results along the channel axis. Input channels and filters must both be divisible by groups.\n",
    "                --> ***activation***: Activation function to use. If you don't specify anything, no activation is applied (see keras.activations).\n",
    "                --> use_bias: Boolean, whether the layer uses a bias vector.\n",
    "                --> kernel_initializer: Initializer for the kernel weights matrix (see keras.initializers). Defaults to 'glorot_uniform'.\n",
    "                --> bias_initializer: Initializer for the bias vector (see keras.initializers). Defaults to 'zeros'.\n",
    "                --> kernel_regularizer: Regularizer function applied to the kernel weights matrix (see keras.regularizers).\n",
    "                --> bias_regularizer: Regularizer function applied to the bias vector (see keras.regularizers).\n",
    "                --> activity_regularizer: Regularizer function applied to the output of the layer (its \"activation\") (see keras.regularizers).\n",
    "                --> kernel_constraint: Constraint function applied to the kernel matrix (see keras.constraints).\n",
    "                --> bias_constraint: Constraint function applied to the bias vector (see keras.constraints).\n",
    "        Function returns a tensor of rank 3 representing activation(conv1d(inputs, kernel) + bias).\n",
    "\n",
    " - ***Dropout*** - The Dropout layer randomly sets input units to 0 with a frequency of rate at each step during training time, which helps prevent overfitting. Inputs not set to 0 are scaled up by 1/(1 - rate) such that the sum over all inputs is unchanged.\n",
    "             Arguments in function:\n",
    "                 --> ***rate***: Float between 0 and 1. Fraction of the input units to drop.\n",
    "                 --> noise_shape: 1D integer tensor representing the shape of the binary dropout mask that will be multiplied with the input. For instance, if your inputs have shape (batch_size, timesteps, features) and you want the dropout mask to be the same for all timesteps, you can use noise_shape=(batch_size, 1, features).\n",
    "                 --> seed: A Python integer to use as random seed. \n",
    " - ***Conv1DTranspose*** - The need for transposed convolutions generally arises from the desire to use a transformation going in the opposite direction of a normal convolution, i.e., from something that has the shape of the output of some convolution to something that has the shape of its input while maintaining a connectivity pattern that is compatible with said convolution.\n",
    "             Arguments in function:\n",
    "                 --> ***filters***: Integer, the dimensionality of the output space (i.e. the number of output filters in the convolution).\n",
    "                --> ***kernel_size***: An integer length of the 1D convolution window.\n",
    "                --> ***strides***: An integer specifying the stride of the convolution along the time dimension. Specifying a stride value != 1 is incompatible with specifying a dilation_rate value != 1. Defaults to 1.\n",
    "                --> ***padding***: one of \"valid\" or \"same\" (case-insensitive). \"valid\" means no padding. \"same\" results in padding with zeros evenly to the left/right or up/down of the input such that output has the same height/width dimension as the input.\n",
    "                --> output_padding: An integer specifying the amount of padding along the time dimension of the output tensor. The amount of output padding must be lower than the stride. If set to None (default), the output shape is inferred.\n",
    "                --> data_format: A string, one of channels_last (default) or channels_first. The ordering of the dimensions in the inputs. channels_last corresponds to inputs with shape (batch_size, length, channels) while channels_first corresponds to inputs with shape (batch_size, channels, length).\n",
    "                --> dilation_rate: an integer, specifying the dilation rate to use for dilated convolution. Currently, specifying a dilation_rate value != 1 is incompatible with specifying a stride value != 1. Also dilation rate larger than 1 is not currently supported.\n",
    "                --> ***activation***: Activation function to use. If you don't specify anything, no activation is applied (see keras.activations).\n",
    "                --> use_bias: Boolean, whether the layer uses a bias vector.\n",
    "                --> kernel_initializer: Initializer for the kernel weights matrix (see keras.initializers). Defaults to 'glorot_uniform'.\n",
    "                --> bias_initializer: Initializer for the bias vector (see keras.initializers). Defaults to 'zeros'.\n",
    "                --> kernel_regularizer: Regularizer function applied to the kernel weights matrix (see keras.regularizers).\n",
    "                --> bias_regularizer: Regularizer function applied to the bias vector (see keras.regularizers).\n",
    "                --> activity_regularizer: Regularizer function applied to the output of the layer (its \"activation\") (see keras.regularizers).\n",
    "                --> kernel_constraint: Constraint function applied to the kernel matrix (see keras.constraints).\n",
    "                --> bias_constraint: Constraint function applied to the bias vector (see keras.constraints). \n",
    "       Function returns: A tensor of rank 3 representing activation(conv1dtranspose(inputs, kernel) + bias). "
   ]
  },
  {
   "cell_type": "code",
   "execution_count": null,
   "id": "6ab56007",
   "metadata": {},
   "outputs": [],
   "source": [
    "model = keras.Sequential(\n",
    "    [\n",
    "        keras.layers.Input(shape=(x_train.shape[1], x_train.shape[2])),\n",
    "        keras.layers.Conv1D(\n",
    "            filters=32, kernel_size=7, padding=\"same\", strides=2, activation=\"relu\"\n",
    "        ),\n",
    "        keras.layers.Dropout(rate=0.2),\n",
    "        keras.layers.Conv1D(\n",
    "            filters=16, kernel_size=7, padding=\"same\", strides=2, activation=\"relu\"\n",
    "        ),\n",
    "        keras.layers.Conv1DTranspose(\n",
    "            filters=16, kernel_size=7, padding=\"same\", strides=2, activation=\"relu\"\n",
    "        ),\n",
    "        keras.layers.Dropout(rate=0.2),\n",
    "        keras.layers.Conv1DTranspose(\n",
    "            filters=32, kernel_size=7, padding=\"same\", strides=2, activation=\"relu\"\n",
    "        ),\n",
    "        keras.layers.Conv1DTranspose(filters=1, kernel_size=7, padding=\"same\"),\n",
    "    ]\n",
    ")\n",
    "\n"
   ]
  },
  {
   "cell_type": "markdown",
   "id": "04c1a117",
   "metadata": {},
   "source": [
    "Methods use on model:\n",
    " - ***compile*** is used to configures the model for training. \n",
    "            Arguments in function:\n",
    "                --> ***optimizer***: String (name of optimizer) or optimizer instance. Keras.optimizer is build-in optimizer classes. Optimizer used below implements ***the Adam algorithm*** (keras.optimizers.Adam). Adam optimization is a stochastic gradient descent method that is based on adaptive estimation of first-order and second-order moments. Argument used in this case:\n",
    "                            - learning_rate - A tf.Tensor, floating point value, a schedule that is a tf.keras.optimizers.schedules.LearningRateSchedule, or a callable that takes no arguments and returns the actual value to use. The learning rate. Defaults to 0.001. \n",
    "                --> ***loss***: Loss function. May be a string (name of loss function), or a tf.keras.losses.Loss instance. See tf.keras.losses. A loss function is any callable with the signature loss = fn(y_true, y_pred), where y_true are the ground truth values, and y_pred are the model's predictions. y_true should have shape (batch_size, d0, .. dN) (except in the case of sparse loss functions such as sparse categorical crossentropy which expects integer arrays of shape (batch_size, d0, .. dN-1)). y_pred should have shape (batch_size, d0, .. dN). The loss function should return a float tensor. If a custom Loss instance is used and reduction is set to None, return value has shape (batch_size, d0, .. dN-1) i.e. per-sample or per-timestep loss values; otherwise, it is a scalar. If the model has multiple outputs, you can use a different loss on each output by passing a dictionary or a list of losses. The loss value that will be minimized by the model will then be the sum of all individual losses, unless loss_weights is specified.\n",
    "                --> metrics: List of metrics to be evaluated by the model during training and testing. Each of this can be a string (name of a built-in function), function or a tf.keras.metrics.Metric instance. See tf.keras.metrics. Typically you will use metrics=['accuracy']. A function is any callable with the signature result = fn(y_true, y_pred). To specify different metrics for different outputs of a multi-output model, you could also pass a dictionary, such as metrics={'output_a':'accuracy', 'output_b':['accuracy', 'mse']}. You can also pass a list to specify a metric or a list of metrics for each output, such as metrics=[['accuracy'], ['accuracy', 'mse']] or metrics=['accuracy', ['accuracy', 'mse']]. When you pass the strings 'accuracy' or 'acc', we convert this to one of tf.keras.metrics.BinaryAccuracy, tf.keras.metrics.CategoricalAccuracy, tf.keras.metrics.SparseCategoricalAccuracy based on the loss function used and the model output shape. We do a similar conversion for the strings 'crossentropy' and 'ce' as well. The metrics passed here are evaluated without sample weighting; if you would like sample weighting to apply, you can specify your metrics via the weighted_metrics argument instead.\n",
    "                --> loss_weights: Optional list or dictionary specifying scalar coefficients (Python floats) to weight the loss contributions of different model outputs. The loss value that will be minimized by the model will then be the weighted sum of all individual losses, weighted by the loss_weights coefficients. If a list, it is expected to have a 1:1 mapping to the model's outputs. If a dict, it is expected to map output names (strings) to scalar coefficients.\n",
    "                --> weighted_metrics: List of metrics to be evaluated and weighted by sample_weight or class_weight during training and testing.\n",
    "                --> run_eagerly: Bool. Defaults to False. If True, this Model's logic will not be wrapped in a tf.function. Recommended to leave this as None unless your Model cannot be run inside a tf.function. run_eagerly=True is not supported when using tf.distribute.experimental.ParameterServerStrategy.\n",
    "                --> steps_per_execution: Int. Defaults to 1. The number of batches to run during each tf.function call. Running multiple batches inside a single tf.function call can greatly improve performance on TPUs or small models with a large Python overhead. At most, one full epoch will be run each execution. If a number larger than the size of the epoch is passed, the execution will be truncated to the size of the epoch. Note that if steps_per_execution is set to N, Callback.on_batch_begin and Callback.on_batch_end methods will only be called every N batches (i.e. before/after each tf.function execution).\n",
    "                --> jit_compile: If True, compile the model training step with XLA. XLA is an optimizing compiler for machine learning. jit_compile is not enabled for by default. This option cannot be enabled with run_eagerly=True. Note that jit_compile=True may not necessarily work for all models. For more information on supported operations please refer to the XLA documentation. Also refer to known XLA issues for more details.\n",
    "                \n",
    "                \n",
    "- ***summary*** - Prints a string summary of the network. "
   ]
  },
  {
   "cell_type": "code",
   "execution_count": null,
   "id": "01876c9f",
   "metadata": {},
   "outputs": [],
   "source": [
    "model.compile(optimizer=keras.optimizers.Adam(learning_rate=0.001), loss=\"mse\")\n",
    "model.summary()"
   ]
  },
  {
   "cell_type": "markdown",
   "id": "99c80e3f",
   "metadata": {},
   "source": [
    "### Train the model\n",
    "***"
   ]
  },
  {
   "cell_type": "markdown",
   "id": "1bfecc69",
   "metadata": {},
   "source": [
    "NOTE: in this model \"x_train\" is used both as a input and the target - since this is a reconstruction model."
   ]
  },
  {
   "cell_type": "code",
   "execution_count": null,
   "id": "91ef2c4d",
   "metadata": {},
   "outputs": [],
   "source": [
    "history = model.fit(\n",
    "    x_train,\n",
    "    x_train,\n",
    "    epochs=50,\n",
    "    batch_size=128,\n",
    "    validation_split=0.1,\n",
    "    callbacks=[\n",
    "        keras.callbacks.EarlyStopping(monitor=\"val_loss\", patience=5, mode=\"min\")\n",
    "    ],\n",
    ")"
   ]
  },
  {
   "cell_type": "markdown",
   "id": "df2c1b81",
   "metadata": {},
   "source": [
    "Plot training and validation loss."
   ]
  },
  {
   "cell_type": "code",
   "execution_count": null,
   "id": "e3cdaccc",
   "metadata": {},
   "outputs": [],
   "source": [
    "plt.plot(history.history[\"loss\"], label=\"Training Loss\")\n",
    "plt.plot(history.history[\"val_loss\"], label=\"Validation Loss\")\n",
    "plt.legend()\n",
    "plt.show()"
   ]
  },
  {
   "cell_type": "markdown",
   "id": "8821d26c",
   "metadata": {},
   "source": [
    "### Detecting anomalies."
   ]
  },
  {
   "cell_type": "markdown",
   "id": "bd04d062",
   "metadata": {},
   "source": [
    "We will detect anomalies by determining how well our model can reconstruct the input data.\n",
    "\n",
    "    Find MAE loss on training samples.\n",
    "    Find max MAE loss value. This is the worst our model has performed trying to reconstruct a sample. We will make this the threshold for anomaly detection.\n",
    "    If the reconstruction loss for a sample is greater than this threshold value then we can infer that the model is seeing a pattern that it isn't familiar with. We will label this sample as an anomaly.\n"
   ]
  },
  {
   "cell_type": "code",
   "execution_count": null,
   "id": "d8c683d7",
   "metadata": {},
   "outputs": [],
   "source": [
    "# Get train MAE loss.\n",
    "x_train_pred = model.predict(x_train)\n",
    "train_mae_loss = np.mean(np.abs(x_train_pred - x_train), axis=1)\n",
    "\n",
    "plt.hist(train_mae_loss, bins=50)\n",
    "plt.xlabel(\"Train MAE loss\")\n",
    "plt.ylabel(\"No of samples\")\n",
    "plt.show()\n",
    "\n",
    "# Get reconstruction loss threshold.\n",
    "threshold = np.max(train_mae_loss)\n",
    "print(\"Reconstruction error threshold: \", threshold)"
   ]
  },
  {
   "cell_type": "markdown",
   "id": "a168f5d4",
   "metadata": {},
   "source": [
    "### Compare reconstructions"
   ]
  },
  {
   "cell_type": "code",
   "execution_count": null,
   "id": "f2e3d4b2",
   "metadata": {
    "scrolled": true
   },
   "outputs": [],
   "source": [
    "# Checking how the first sequence is learnt\n",
    "plt.plot(x_train[0])\n",
    "plt.plot(x_train_pred[0])\n",
    "plt.show()\n"
   ]
  },
  {
   "cell_type": "markdown",
   "id": "15471ea0",
   "metadata": {},
   "source": [
    "#### Prepare test data"
   ]
  },
  {
   "cell_type": "code",
   "execution_count": null,
   "id": "5b562cc9",
   "metadata": {},
   "outputs": [],
   "source": [
    "df_test_value = (df_daily_jumpsup - training_mean) / training_std\n",
    "fig, ax = plt.subplots()\n",
    "df_test_value.plot(legend=False, ax=ax)\n",
    "plt.show()\n",
    "\n",
    "# Create sequences from test values.\n",
    "x_test = create_sequences(df_test_value.values)\n",
    "print(\"Test input shape: \", x_test.shape)\n",
    "\n",
    "# Get test MAE loss.\n",
    "x_test_pred = model.predict(x_test)\n",
    "test_mae_loss = np.mean(np.abs(x_test_pred - x_test), axis=1)\n",
    "test_mae_loss = test_mae_loss.reshape((-1))\n",
    "\n",
    "plt.hist(test_mae_loss, bins=50)\n",
    "plt.xlabel(\"test MAE loss\")\n",
    "plt.ylabel(\"No of samples\")\n",
    "plt.show()\n",
    "\n",
    "# Detect all the samples which are anomalies.\n",
    "anomalies = test_mae_loss > threshold\n",
    "print(\"Number of anomaly samples: \", np.sum(anomalies))\n",
    "print(\"Indices of anomaly samples: \", np.where(anomalies))\n"
   ]
  },
  {
   "cell_type": "markdown",
   "id": "b13bbe0e",
   "metadata": {},
   "source": [
    "### Plot anomalies"
   ]
  },
  {
   "cell_type": "code",
   "execution_count": null,
   "id": "d08b0346",
   "metadata": {},
   "outputs": [],
   "source": [
    "# data i is an anomaly if samples [(i - timesteps + 1) to (i)] are anomalies\n",
    "anomalous_data_indices = []\n",
    "for data_idx in range(TIME_STEPS - 1, len(df_test_value) - TIME_STEPS + 1):\n",
    "    if np.all(anomalies[data_idx - TIME_STEPS + 1 : data_idx]):\n",
    "        anomalous_data_indices.append(data_idx)\n"
   ]
  },
  {
   "cell_type": "code",
   "execution_count": null,
   "id": "a084e0f2",
   "metadata": {},
   "outputs": [],
   "source": [
    "df_subset = df_daily_jumpsup.iloc[anomalous_data_indices]\n",
    "fig, ax = plt.subplots()\n",
    "df_daily_jumpsup.plot(legend=False, ax=ax)\n",
    "df_subset.plot(legend=False, ax=ax, color=\"r\")\n",
    "plt.show()\n"
   ]
  },
  {
   "cell_type": "code",
   "execution_count": null,
   "id": "92032493",
   "metadata": {},
   "outputs": [],
   "source": []
  },
  {
   "cell_type": "code",
   "execution_count": null,
   "id": "91b52dd9",
   "metadata": {},
   "outputs": [],
   "source": []
  },
  {
   "cell_type": "code",
   "execution_count": null,
   "id": "79e9856e",
   "metadata": {},
   "outputs": [],
   "source": []
  }
 ],
 "metadata": {
  "kernelspec": {
   "display_name": "Python 3",
   "language": "python",
   "name": "python3"
  },
  "language_info": {
   "codemirror_mode": {
    "name": "ipython",
    "version": 3
   },
   "file_extension": ".py",
   "mimetype": "text/x-python",
   "name": "python",
   "nbconvert_exporter": "python",
   "pygments_lexer": "ipython3",
   "version": "3.8.8"
  }
 },
 "nbformat": 4,
 "nbformat_minor": 5
}
