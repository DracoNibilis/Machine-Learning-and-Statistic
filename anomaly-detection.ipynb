{
 "cells": [
  {
   "cell_type": "markdown",
   "id": "ea1d6868",
   "metadata": {},
   "source": [
    "***\n",
    "# Timeseries anomaly detection.\n",
    "\n",
    "Below script demonstrates use of **keras** library to show a reconstruction convolutional autoencoder model for detecting anomalies in timeseries data.\n"
   ]
  },
  {
   "cell_type": "markdown",
   "id": "60475c96",
   "metadata": {},
   "source": [
    "Based on the website:\n",
    "\n",
    "https://keras.io/examples/timeseries/timeseries_anomaly_detection/\n",
    "\n",
    "File used from keggle website:\n",
    "\n",
    "https://www.kaggle.com/datasets/boltzmannbrain/nab\n"
   ]
  },
  {
   "cell_type": "markdown",
   "id": "d7d936c8",
   "metadata": {},
   "source": [
    "Datasets used:\n",
    "- art_daily_small_noise.csv \n",
    "- art_daily_jumpsup.csv \n",
    "<br>\n",
    "\n",
    "\n",
    "Both datasets are csv files with two columns of numeric data. First column - **timestamp** - data and time data are stored, in second column - **value** - floating point numeric data are stored. \n",
    "<br>\n",
    "In model is used Numenta Anomaly Benchmark(NAB) dataset. It provides artifical timeseries data containing labeled anomalous periods of behavior. Data are ordered, timestamped, single-valued metrics.\n",
    "According to keggle website, The Numenta Anomaly Benchmark (NAB) is a novel benchmark for evaluating algorithms for anomaly detection in streaming, online applications. It is comprised of over 50 labeled real-world and artificial timeseries data files plus a novel scoring mechanism designed for real-time applications. \n",
    "<br>Some of available datasets are: AWS server metrics, online advertisement clicking rates, temperature sensor, real time traffic data and more.\n",
    "\n",
    "\n",
    "\n",
    "More information and datasets is available on the NAB github page <br>https://github.com/numenta/NAB "
   ]
  },
  {
   "cell_type": "markdown",
   "id": "d3d85284",
   "metadata": {},
   "source": [
    "****"
   ]
  },
  {
   "cell_type": "markdown",
   "id": "6bcf757f",
   "metadata": {},
   "source": [
    "### Import modules and load datasets.\n",
    "***"
   ]
  },
  {
   "cell_type": "code",
   "execution_count": 46,
   "id": "fd4a7d23",
   "metadata": {},
   "outputs": [],
   "source": [
    "# Numerical arrays.\n",
    "import numpy as np\n",
    "\n",
    "# Spread-sheet-like Data Frames.\n",
    "import pandas as pd\n",
    "\n",
    "# Neural networks.\n",
    "import tensorflow.keras as keras\n",
    "\n",
    "# Plotting.\n",
    "import matplotlib.pyplot as plt\n",
    "\n",
    "import matplotlib.animation as animation"
   ]
  },
  {
   "cell_type": "code",
   "execution_count": 2,
   "id": "4ed2e2de",
   "metadata": {},
   "outputs": [],
   "source": [
    "# Get urls for datasets.\n",
    "master_url_root = \"https://raw.githubusercontent.com/numenta/NAB/master/data/\"\n",
    "\n",
    "# Dataset with anomaly.\n",
    "with_anomaly_url = \"artificialWithAnomaly/art_daily_jumpsup.csv\"\n",
    "\n",
    "# Dataset without anomaly.\n",
    "no_anomaly_url = \"artificialNoAnomaly/art_daily_small_noise.csv\""
   ]
  },
  {
   "cell_type": "code",
   "execution_count": 3,
   "id": "53637f56",
   "metadata": {},
   "outputs": [],
   "source": [
    "# Read csv dataset with anomaly from url by Pandas.\n",
    "df_anomaly_url = master_url_root + with_anomaly_url\n",
    "df_anomaly = pd.read_csv(df_anomaly_url, parse_dates=True, index_col=\"timestamp\")"
   ]
  },
  {
   "cell_type": "code",
   "execution_count": 4,
   "id": "c955b948",
   "metadata": {},
   "outputs": [
    {
     "data": {
      "text/plain": [
       "'https://raw.githubusercontent.com/numenta/NAB/master/data/artificialWithAnomaly/art_daily_jumpsup.csv'"
      ]
     },
     "execution_count": 4,
     "metadata": {},
     "output_type": "execute_result"
    }
   ],
   "source": [
    "# Check url for dataset with anomaly art_daily_jumpsup.csv\n",
    "df_anomaly_url"
   ]
  },
  {
   "cell_type": "code",
   "execution_count": 5,
   "id": "5ec926b4",
   "metadata": {},
   "outputs": [
    {
     "data": {
      "text/html": [
       "<div>\n",
       "<style scoped>\n",
       "    .dataframe tbody tr th:only-of-type {\n",
       "        vertical-align: middle;\n",
       "    }\n",
       "\n",
       "    .dataframe tbody tr th {\n",
       "        vertical-align: top;\n",
       "    }\n",
       "\n",
       "    .dataframe thead th {\n",
       "        text-align: right;\n",
       "    }\n",
       "</style>\n",
       "<table border=\"1\" class=\"dataframe\">\n",
       "  <thead>\n",
       "    <tr style=\"text-align: right;\">\n",
       "      <th></th>\n",
       "      <th>value</th>\n",
       "    </tr>\n",
       "    <tr>\n",
       "      <th>timestamp</th>\n",
       "      <th></th>\n",
       "    </tr>\n",
       "  </thead>\n",
       "  <tbody>\n",
       "    <tr>\n",
       "      <th>2014-04-01 00:00:00</th>\n",
       "      <td>19.761252</td>\n",
       "    </tr>\n",
       "    <tr>\n",
       "      <th>2014-04-01 00:05:00</th>\n",
       "      <td>20.500833</td>\n",
       "    </tr>\n",
       "    <tr>\n",
       "      <th>2014-04-01 00:10:00</th>\n",
       "      <td>19.961641</td>\n",
       "    </tr>\n",
       "    <tr>\n",
       "      <th>2014-04-01 00:15:00</th>\n",
       "      <td>21.490266</td>\n",
       "    </tr>\n",
       "    <tr>\n",
       "      <th>2014-04-01 00:20:00</th>\n",
       "      <td>20.187739</td>\n",
       "    </tr>\n",
       "  </tbody>\n",
       "</table>\n",
       "</div>"
      ],
      "text/plain": [
       "                         value\n",
       "timestamp                     \n",
       "2014-04-01 00:00:00  19.761252\n",
       "2014-04-01 00:05:00  20.500833\n",
       "2014-04-01 00:10:00  19.961641\n",
       "2014-04-01 00:15:00  21.490266\n",
       "2014-04-01 00:20:00  20.187739"
      ]
     },
     "execution_count": 5,
     "metadata": {},
     "output_type": "execute_result"
    }
   ],
   "source": [
    "# Check dataset.\n",
    "df_anomaly.head()"
   ]
  },
  {
   "cell_type": "code",
   "execution_count": 6,
   "id": "11cc4f62",
   "metadata": {},
   "outputs": [
    {
     "data": {
      "text/plain": [
       "(4032, 1)"
      ]
     },
     "execution_count": 6,
     "metadata": {},
     "output_type": "execute_result"
    }
   ],
   "source": [
    "# Check size of dataset.\n",
    "df_anomaly.shape"
   ]
  },
  {
   "cell_type": "code",
   "execution_count": 7,
   "id": "d8885cdc",
   "metadata": {},
   "outputs": [
    {
     "data": {
      "text/html": [
       "<div>\n",
       "<style scoped>\n",
       "    .dataframe tbody tr th:only-of-type {\n",
       "        vertical-align: middle;\n",
       "    }\n",
       "\n",
       "    .dataframe tbody tr th {\n",
       "        vertical-align: top;\n",
       "    }\n",
       "\n",
       "    .dataframe thead th {\n",
       "        text-align: right;\n",
       "    }\n",
       "</style>\n",
       "<table border=\"1\" class=\"dataframe\">\n",
       "  <thead>\n",
       "    <tr style=\"text-align: right;\">\n",
       "      <th></th>\n",
       "      <th>value</th>\n",
       "    </tr>\n",
       "  </thead>\n",
       "  <tbody>\n",
       "    <tr>\n",
       "      <th>count</th>\n",
       "      <td>4032.000000</td>\n",
       "    </tr>\n",
       "    <tr>\n",
       "      <th>mean</th>\n",
       "      <td>44.494254</td>\n",
       "    </tr>\n",
       "    <tr>\n",
       "      <th>std</th>\n",
       "      <td>32.432473</td>\n",
       "    </tr>\n",
       "    <tr>\n",
       "      <th>min</th>\n",
       "      <td>18.001010</td>\n",
       "    </tr>\n",
       "    <tr>\n",
       "      <th>25%</th>\n",
       "      <td>19.991382</td>\n",
       "    </tr>\n",
       "    <tr>\n",
       "      <th>50%</th>\n",
       "      <td>21.648503</td>\n",
       "    </tr>\n",
       "    <tr>\n",
       "      <th>75%</th>\n",
       "      <td>76.435943</td>\n",
       "    </tr>\n",
       "    <tr>\n",
       "      <th>max</th>\n",
       "      <td>164.947481</td>\n",
       "    </tr>\n",
       "  </tbody>\n",
       "</table>\n",
       "</div>"
      ],
      "text/plain": [
       "             value\n",
       "count  4032.000000\n",
       "mean     44.494254\n",
       "std      32.432473\n",
       "min      18.001010\n",
       "25%      19.991382\n",
       "50%      21.648503\n",
       "75%      76.435943\n",
       "max     164.947481"
      ]
     },
     "execution_count": 7,
     "metadata": {},
     "output_type": "execute_result"
    }
   ],
   "source": [
    "# Summary statistic for dataset with anomaly.\n",
    "df_anomaly.describe()"
   ]
  },
  {
   "cell_type": "code",
   "execution_count": 8,
   "id": "fdcad436",
   "metadata": {},
   "outputs": [],
   "source": [
    "# Read csv dataset without anomaly from url by Pandas.\n",
    "df_no_anomaly_url = master_url_root + no_anomaly_url\n",
    "df_no_anomaly = pd.read_csv(df_no_anomaly_url, parse_dates=True, index_col=\"timestamp\")"
   ]
  },
  {
   "cell_type": "code",
   "execution_count": 9,
   "id": "fbea283e",
   "metadata": {},
   "outputs": [
    {
     "data": {
      "text/plain": [
       "'https://raw.githubusercontent.com/numenta/NAB/master/data/artificialNoAnomaly/art_daily_small_noise.csv'"
      ]
     },
     "execution_count": 9,
     "metadata": {},
     "output_type": "execute_result"
    }
   ],
   "source": [
    "# Check url for dataset without anomaly art_daily_small_noise.csv\n",
    "df_no_anomaly_url"
   ]
  },
  {
   "cell_type": "code",
   "execution_count": 10,
   "id": "9e0e26d9",
   "metadata": {},
   "outputs": [
    {
     "data": {
      "text/html": [
       "<div>\n",
       "<style scoped>\n",
       "    .dataframe tbody tr th:only-of-type {\n",
       "        vertical-align: middle;\n",
       "    }\n",
       "\n",
       "    .dataframe tbody tr th {\n",
       "        vertical-align: top;\n",
       "    }\n",
       "\n",
       "    .dataframe thead th {\n",
       "        text-align: right;\n",
       "    }\n",
       "</style>\n",
       "<table border=\"1\" class=\"dataframe\">\n",
       "  <thead>\n",
       "    <tr style=\"text-align: right;\">\n",
       "      <th></th>\n",
       "      <th>value</th>\n",
       "    </tr>\n",
       "    <tr>\n",
       "      <th>timestamp</th>\n",
       "      <th></th>\n",
       "    </tr>\n",
       "  </thead>\n",
       "  <tbody>\n",
       "    <tr>\n",
       "      <th>2014-04-01 00:00:00</th>\n",
       "      <td>18.324919</td>\n",
       "    </tr>\n",
       "    <tr>\n",
       "      <th>2014-04-01 00:05:00</th>\n",
       "      <td>21.970327</td>\n",
       "    </tr>\n",
       "    <tr>\n",
       "      <th>2014-04-01 00:10:00</th>\n",
       "      <td>18.624806</td>\n",
       "    </tr>\n",
       "    <tr>\n",
       "      <th>2014-04-01 00:15:00</th>\n",
       "      <td>21.953684</td>\n",
       "    </tr>\n",
       "    <tr>\n",
       "      <th>2014-04-01 00:20:00</th>\n",
       "      <td>21.909120</td>\n",
       "    </tr>\n",
       "  </tbody>\n",
       "</table>\n",
       "</div>"
      ],
      "text/plain": [
       "                         value\n",
       "timestamp                     \n",
       "2014-04-01 00:00:00  18.324919\n",
       "2014-04-01 00:05:00  21.970327\n",
       "2014-04-01 00:10:00  18.624806\n",
       "2014-04-01 00:15:00  21.953684\n",
       "2014-04-01 00:20:00  21.909120"
      ]
     },
     "execution_count": 10,
     "metadata": {},
     "output_type": "execute_result"
    }
   ],
   "source": [
    "# Check dataset.\n",
    "df_no_anomaly.head()"
   ]
  },
  {
   "cell_type": "code",
   "execution_count": 11,
   "id": "d6635773",
   "metadata": {},
   "outputs": [
    {
     "data": {
      "text/plain": [
       "(4032, 1)"
      ]
     },
     "execution_count": 11,
     "metadata": {},
     "output_type": "execute_result"
    }
   ],
   "source": [
    "# Check size of dataset.\n",
    "df_no_anomaly.shape"
   ]
  },
  {
   "cell_type": "code",
   "execution_count": 12,
   "id": "c269a8e3",
   "metadata": {},
   "outputs": [
    {
     "data": {
      "text/html": [
       "<div>\n",
       "<style scoped>\n",
       "    .dataframe tbody tr th:only-of-type {\n",
       "        vertical-align: middle;\n",
       "    }\n",
       "\n",
       "    .dataframe tbody tr th {\n",
       "        vertical-align: top;\n",
       "    }\n",
       "\n",
       "    .dataframe thead th {\n",
       "        text-align: right;\n",
       "    }\n",
       "</style>\n",
       "<table border=\"1\" class=\"dataframe\">\n",
       "  <thead>\n",
       "    <tr style=\"text-align: right;\">\n",
       "      <th></th>\n",
       "      <th>value</th>\n",
       "    </tr>\n",
       "  </thead>\n",
       "  <tbody>\n",
       "    <tr>\n",
       "      <th>count</th>\n",
       "      <td>4032.000000</td>\n",
       "    </tr>\n",
       "    <tr>\n",
       "      <th>mean</th>\n",
       "      <td>42.438353</td>\n",
       "    </tr>\n",
       "    <tr>\n",
       "      <th>std</th>\n",
       "      <td>28.077122</td>\n",
       "    </tr>\n",
       "    <tr>\n",
       "      <th>min</th>\n",
       "      <td>18.000964</td>\n",
       "    </tr>\n",
       "    <tr>\n",
       "      <th>25%</th>\n",
       "      <td>19.841390</td>\n",
       "    </tr>\n",
       "    <tr>\n",
       "      <th>50%</th>\n",
       "      <td>21.608487</td>\n",
       "    </tr>\n",
       "    <tr>\n",
       "      <th>75%</th>\n",
       "      <td>75.450282</td>\n",
       "    </tr>\n",
       "    <tr>\n",
       "      <th>max</th>\n",
       "      <td>87.976128</td>\n",
       "    </tr>\n",
       "  </tbody>\n",
       "</table>\n",
       "</div>"
      ],
      "text/plain": [
       "             value\n",
       "count  4032.000000\n",
       "mean     42.438353\n",
       "std      28.077122\n",
       "min      18.000964\n",
       "25%      19.841390\n",
       "50%      21.608487\n",
       "75%      75.450282\n",
       "max      87.976128"
      ]
     },
     "execution_count": 12,
     "metadata": {},
     "output_type": "execute_result"
    }
   ],
   "source": [
    "# Summary statistic for dataset without anomaly.\n",
    "df_no_anomaly.describe()"
   ]
  },
  {
   "cell_type": "markdown",
   "id": "108ad2d7",
   "metadata": {},
   "source": [
    "****"
   ]
  },
  {
   "cell_type": "markdown",
   "id": "ce2dd11d",
   "metadata": {},
   "source": [
    "#### Visualize the data.\n",
    "***"
   ]
  },
  {
   "cell_type": "code",
   "execution_count": 13,
   "id": "18233cba",
   "metadata": {},
   "outputs": [
    {
     "data": {
      "image/png": "[encoded data removed]",
      "text/plain": [
       "<Figure size 864x432 with 1 Axes>"
      ]
     },
     "metadata": {
      "needs_background": "light"
     },
     "output_type": "display_data"
    }
   ],
   "source": [
    "# Visualize the data - timeseries without anomalies.\n",
    "fig, ax = plt.subplots(figsize=(12,6))\n",
    "\n",
    "# Use Pandas to plot data frame.\n",
    "df_no_anomaly.plot(legend=False, ax=ax);"
   ]
  },
  {
   "cell_type": "code",
   "execution_count": 14,
   "id": "1f70d4c5",
   "metadata": {
    "scrolled": true
   },
   "outputs": [
    {
     "data": {
      "image/png": "[encoded data removed]",
      "text/plain": [
       "<Figure size 864x432 with 1 Axes>"
      ]
     },
     "metadata": {
      "needs_background": "light"
     },
     "output_type": "display_data"
    }
   ],
   "source": [
    "# Visualize the data - timeseries with anomalies.\n",
    "fig, ax = plt.subplots(figsize=(12,6))\n",
    "\n",
    "# Use Pandas to plot data frame.\n",
    "df_anomaly.plot(legend=False, ax=ax);"
   ]
  },
  {
   "cell_type": "markdown",
   "id": "18de9180",
   "metadata": {},
   "source": [
    "### Prepare training data.\n",
    "***"
   ]
  },
  {
   "cell_type": "markdown",
   "id": "d6059a2e",
   "metadata": {},
   "source": [
    "Get data values from the training timeseries data file and normalize the value data. We have a value for every 5 mins for 14 days.\n",
    "\n",
    "    24 * 60 / 5 = 288     timesteps per day\n",
    "    288 * 14 = 4032     data points in total\n"
   ]
  },
  {
   "cell_type": "code",
   "execution_count": 15,
   "id": "90b978d9",
   "metadata": {},
   "outputs": [],
   "source": [
    "# Normalize and save the mean and std.\n",
    "training_mean = df_no_anomaly.mean()\n",
    "training_std = df_no_anomaly.std()"
   ]
  },
  {
   "cell_type": "code",
   "execution_count": 16,
   "id": "e0584ca1",
   "metadata": {},
   "outputs": [
    {
     "name": "stdout",
     "output_type": "stream",
     "text": [
      "Training mean is:  value    42.438353\n",
      "dtype: float64\n"
     ]
    }
   ],
   "source": [
    "# Check the mean value.\n",
    "print(\"Training mean is: \", training_mean)"
   ]
  },
  {
   "cell_type": "code",
   "execution_count": 17,
   "id": "75be7f43",
   "metadata": {},
   "outputs": [
    {
     "name": "stdout",
     "output_type": "stream",
     "text": [
      "Training std is:  value    28.077122\n",
      "dtype: float64\n"
     ]
    }
   ],
   "source": [
    "# Check the std value.\n",
    "print(\"Training std is: \", training_std)"
   ]
  },
  {
   "cell_type": "code",
   "execution_count": 18,
   "id": "43322618",
   "metadata": {
    "scrolled": true
   },
   "outputs": [
    {
     "data": {
      "text/html": [
       "<div>\n",
       "<style scoped>\n",
       "    .dataframe tbody tr th:only-of-type {\n",
       "        vertical-align: middle;\n",
       "    }\n",
       "\n",
       "    .dataframe tbody tr th {\n",
       "        vertical-align: top;\n",
       "    }\n",
       "\n",
       "    .dataframe thead th {\n",
       "        text-align: right;\n",
       "    }\n",
       "</style>\n",
       "<table border=\"1\" class=\"dataframe\">\n",
       "  <thead>\n",
       "    <tr style=\"text-align: right;\">\n",
       "      <th></th>\n",
       "      <th>value</th>\n",
       "    </tr>\n",
       "    <tr>\n",
       "      <th>timestamp</th>\n",
       "      <th></th>\n",
       "    </tr>\n",
       "  </thead>\n",
       "  <tbody>\n",
       "    <tr>\n",
       "      <th>2014-04-01 00:00:00</th>\n",
       "      <td>-0.858829</td>\n",
       "    </tr>\n",
       "    <tr>\n",
       "      <th>2014-04-01 00:05:00</th>\n",
       "      <td>-0.728993</td>\n",
       "    </tr>\n",
       "    <tr>\n",
       "      <th>2014-04-01 00:10:00</th>\n",
       "      <td>-0.848148</td>\n",
       "    </tr>\n",
       "    <tr>\n",
       "      <th>2014-04-01 00:15:00</th>\n",
       "      <td>-0.729586</td>\n",
       "    </tr>\n",
       "    <tr>\n",
       "      <th>2014-04-01 00:20:00</th>\n",
       "      <td>-0.731173</td>\n",
       "    </tr>\n",
       "  </tbody>\n",
       "</table>\n",
       "</div>"
      ],
      "text/plain": [
       "                        value\n",
       "timestamp                    \n",
       "2014-04-01 00:00:00 -0.858829\n",
       "2014-04-01 00:05:00 -0.728993\n",
       "2014-04-01 00:10:00 -0.848148\n",
       "2014-04-01 00:15:00 -0.729586\n",
       "2014-04-01 00:20:00 -0.731173"
      ]
     },
     "execution_count": 18,
     "metadata": {},
     "output_type": "execute_result"
    }
   ],
   "source": [
    "# Create training data.\n",
    "df_train_vals = (df_no_anomaly - training_mean) / training_std\n",
    "\n",
    "# Check training data.\n",
    "df_train_vals.head()"
   ]
  },
  {
   "cell_type": "code",
   "execution_count": 19,
   "id": "6d1628a1",
   "metadata": {},
   "outputs": [
    {
     "name": "stdout",
     "output_type": "stream",
     "text": [
      "Number of training samples:  (4032, 1)\n"
     ]
    }
   ],
   "source": [
    "# Check number of training data.\n",
    "print(\"Number of training samples: \", df_train_vals.shape)"
   ]
  },
  {
   "cell_type": "code",
   "execution_count": 20,
   "id": "39f4aa55",
   "metadata": {},
   "outputs": [
    {
     "data": {
      "image/png": "[encoded data removed]",
      "text/plain": [
       "<Figure size 864x432 with 1 Axes>"
      ]
     },
     "metadata": {
      "needs_background": "light"
     },
     "output_type": "display_data"
    }
   ],
   "source": [
    "# Plot training data.\n",
    "fig, ax = plt.subplots(figsize=(12,6))\n",
    "\n",
    "# Use Pandas to plot data frame.\n",
    "df_train_vals.plot(legend=False, ax=ax);"
   ]
  },
  {
   "cell_type": "markdown",
   "id": "f0426458",
   "metadata": {},
   "source": [
    "### Create sequences.\n",
    "***"
   ]
  },
  {
   "cell_type": "markdown",
   "id": "63e3db63",
   "metadata": {},
   "source": [
    "Functions used:\n",
    " - windows() - create function to generate training sequences,\n",
    " - np.stack() - function that joins a sequence of arrays along a new axis, to create a window.\n",
    "    Window example:\n",
    "    \n",
    "    ```python \n",
    "    [1,1,2,4,5,6,7,1,2,3,4,5]\n",
    "    window_size = 3\n",
    "    [1,1,2]\n",
    "    [1,2,4]\n",
    "    [2,4,5]\n",
    "    [4,5,6]\n",
    "    ```"
   ]
  },
  {
   "cell_type": "code",
   "execution_count": null,
   "id": "e5f0a032",
   "metadata": {},
   "outputs": [],
   "source": []
  },
  {
   "cell_type": "code",
   "execution_count": 21,
   "id": "980023a8",
   "metadata": {},
   "outputs": [],
   "source": [
    "# Window size.\n",
    "window_size = 288"
   ]
  },
  {
   "cell_type": "code",
   "execution_count": 22,
   "id": "d20fadad",
   "metadata": {},
   "outputs": [],
   "source": [
    "# Generated training sequences (window) for use in the model.\n",
    "def windows(values, time_steps=window_size):\n",
    "    # Create empty list.\n",
    "    output = []\n",
    "    # Loop trought the window.\n",
    "    for i in range(len(values) - time_steps + 1):\n",
    "        # Append window to the list.\n",
    "        output.append(values[i : (i + time_steps)])\n",
    "    # Create a 2D numpy array from windows.\n",
    "    return np.stack(output)"
   ]
  },
  {
   "cell_type": "code",
   "execution_count": 23,
   "id": "42d10f8c",
   "metadata": {},
   "outputs": [],
   "source": [
    "# Call function to create trainning sequence.\n",
    "x_train = windows(df_train_vals)"
   ]
  },
  {
   "cell_type": "code",
   "execution_count": 24,
   "id": "2a812e72",
   "metadata": {},
   "outputs": [
    {
     "data": {
      "text/plain": [
       "(3745, 288, 1)"
      ]
     },
     "execution_count": 24,
     "metadata": {},
     "output_type": "execute_result"
    }
   ],
   "source": [
    "# Check training input shape.\n",
    "x_train.shape"
   ]
  },
  {
   "cell_type": "code",
   "execution_count": 25,
   "id": "9da3f12b",
   "metadata": {},
   "outputs": [
    {
     "data": {
      "text/plain": [
       "(array([-0.85882857]), array([-0.79671155]))"
      ]
     },
     "execution_count": 25,
     "metadata": {},
     "output_type": "execute_result"
    }
   ],
   "source": [
    "# Check the x_train values (first and last).\n",
    "x_train[0][0], x_train[0][-1]"
   ]
  },
  {
   "cell_type": "markdown",
   "id": "d1ed1891",
   "metadata": {},
   "source": [
    "Values from ***x_train*** set should have the same values as those in ***df_train_vals***. Which will prove that window is set correctly. "
   ]
  },
  {
   "cell_type": "code",
   "execution_count": 26,
   "id": "b099adb4",
   "metadata": {
    "scrolled": true
   },
   "outputs": [
    {
     "data": {
      "text/plain": [
       "(value   -0.858829\n",
       " Name: 2014-04-01 00:00:00, dtype: float64,\n",
       " value   -0.796712\n",
       " Name: 2014-04-01 23:55:00, dtype: float64)"
      ]
     },
     "execution_count": 26,
     "metadata": {},
     "output_type": "execute_result"
    }
   ],
   "source": [
    "# Check values from df_train_vals dataset (first and last).\n",
    "df_train_vals.iloc[0], df_train_vals.iloc[window_size -1]"
   ]
  },
  {
   "cell_type": "markdown",
   "id": "e45b3e91",
   "metadata": {},
   "source": [
    "Testing window on dataset."
   ]
  },
  {
   "cell_type": "code",
   "execution_count": 51,
   "id": "01946092",
   "metadata": {},
   "outputs": [
    {
     "data": {
      "image/png": "[encoded data removed]",
      "text/plain": [
       "<Figure size 864x432 with 1 Axes>"
      ]
     },
     "metadata": {
      "needs_background": "light"
     },
     "output_type": "display_data"
    }
   ],
   "source": [
    "# Create a plot.\n",
    "fig, ax = plt.subplots(figsize=(12,6))\n",
    "# Define y values from first 1000 values from dataset.\n",
    "y = df_train_vals['value'].values[:1000]\n",
    "# Plot original data.\n",
    "ax.plot(np.arange(y.shape[0]), y, label='signal')\n",
    "# The first window, flatten into one dimension.\n",
    "w = x_train[0].flatten()\n",
    "# Plot window data on top of original data.\n",
    "line = ax.plot(np.arange(w.shape[0]), w, 'r', label='window')\n",
    "\n",
    "ax.legend();"
   ]
  },
  {
   "cell_type": "markdown",
   "id": "f4cc50f6",
   "metadata": {},
   "source": [
    "### Build a model.\n",
    "***"
   ]
  },
  {
   "cell_type": "markdown",
   "id": "aa0285b9",
   "metadata": {},
   "source": [
    "Model used here: a convolutional reconstruction autoencoder model.\n",
    "According to the \n",
    "\n",
    "https://blog.keras.io/building-autoencoders-in-keras.html\n",
    "\n",
    "\"Autoencoding\" is a data compression algorithm where the compression and decompression functions are 1) data-specific, 2) lossy, and 3) learned automatically from examples rather than engineered by a human. Additionally, in almost all contexts where the term \"autoencoder\" is used, the compression and decompression functions are implemented with neural networks.\n",
    "To build an autoencoder, you need three things: an encoding function, a decoding function, and a distance function between the amount of information loss between the compressed representation of your data and the decompressed representation (i.e. a \"loss\" function)."
   ]
  },
  {
   "cell_type": "markdown",
   "id": "a16a0363",
   "metadata": {},
   "source": [
    "Below we use sequential function to create a model. A Sequential model is appropriate for plain stock of layers when each layer has exactly one input tensor and one output tensor. Below model has seven layers passed as a list of layers. "
   ]
  },
  {
   "cell_type": "markdown",
   "id": "bdd26a7a",
   "metadata": {},
   "source": [
    "***But what those layers are?***\n",
    "<br>\n",
    "Leyers are the basic building blocks of neural networks in Keras. A layer consists of a tensor-in tensor-out computation function (the layer's call method) and some state, held in TensorFlow variables (the layer's weights). A layer instance is callable much like function, but unlike a  function, layers maintain a state , updated when the layer recieves data during training. \n",
    "<br>\n",
    "\n",
    "There are few types of layers:\n",
    "- core layers,\n",
    "- convolution layers,\n",
    "- pooling layers,\n",
    "- recurrent layers,\n",
    "- preprocessing layers,\n",
    "- normalization layers,\n",
    "- regularization layers\n",
    "and much more. \n",
    "\n",
    "On purpose of our task we going to discuss only those used in code:\n",
    "- Input - core layer - which will allow us to built a Keras model just by knowing the inputs and outputs of the model. \n",
    "- Conv1D and Conv1DTranspose - convolution layers,\n",
    "- Dropout - regularization layer.\n"
   ]
  },
  {
   "cell_type": "markdown",
   "id": "23f21f9f",
   "metadata": {},
   "source": [
    "****\n",
    "Below, is short desciption of layers and their methods:\n",
    "\n",
    " - ***Input*** - is used to instantiate a Keras tensor. \n",
    "       In below function there is only one argument used \n",
    "        --> shape - a shape tuple, for instance, shape=(32,) indicates that the expected input will be batches of 32-dimensional vectors. Elements of this tuple can be None; 'None' elements represent dimensions where the shape is not known.\n",
    "        Other possible arguments: batch_size, name, dtype, sparce, tensor, ragged, type_spec. \n",
    "    Function returns a tensor.\n",
    "      \n",
    "      \n",
    " - ***Conv1D*** - It is 1D convolution layer. This layer creates a convolution kernel that is convolved with the layer input over a single spatial (or temporal) dimension to produce a tensor of outputs.\n",
    "       Arguments used in function: \n",
    "         --> filters - Integer, the dimensionality of the output space (i.e. the number of output filters in the convolution). \n",
    "         --> kernel_size - An integer or tuple/list of a single integer, specifying the length of the 1D convolution window. \n",
    "         --> strides - An integer or tuple/list of a single integer, specifying the stride length of the convolution. \n",
    "         --> padding - One of \"valid\", \"same\" or \"causal\" (case-insensitive). \"valid\" means no padding. \"same\" results in padding with zeros evenly to the left/right or up/down of the input such that output has the same height/width dimension as the input. \"causal\" results in causal (dilated) convolutions.\n",
    "        --> activation - Activation function to use. If you don't specify anything, no activation is applied.\n",
    "        Other available arguments: data_format, dilation_rate, groups, use_bias, kernel_initializer, bias_initializer, kernel_regularizer, activity_regularizer, kernel_constraint, bias_constraint.\n",
    "                \n",
    "\n",
    " - ***Dropout*** - The Dropout layer randomly sets input units to 0 with a frequency of rate at each step during training time, which helps prevent overfitting. Inputs not set to 0 are scaled up by 1/(1 - rate) such that the sum over all inputs is unchanged.\n",
    "       Argument used in function:\n",
    "         --> rate - Float between 0 and 1. Fraction of the input units to drop.\n",
    "         Other available arguments: noise_shape, seed.\n",
    "\n",
    "                 \n",
    " - ***Conv1DTranspose*** - The need for transposed convolutions generally arises from the desire to use a transformation going in the opposite direction of a normal convolution, i.e., from something that has the shape of the output of some convolution to something that has the shape of its input while maintaining a connectivity pattern that is compatible with said convolution.\n",
    "       Arguments in function:\n",
    "         --> filters - Integer, the dimensionality of the output space (i.e. the number of output filters in the convolution).\n",
    "         --> kernel_size - An integer length of the 1D convolution window.\n",
    "         --> strides - An integer specifying the stride of the convolution along the time dimension. Specifying a stride value != 1 is incompatible with specifying a dilation_rate value != 1. Defaults to 1.\n",
    "         --> padding - one of \"valid\" or \"same\" (case-insensitive). \"valid\" means no padding. \"same\" results in padding with zeros evenly to the left/right or up/down of the input such that output has the same height/width dimension as the input.\n",
    "         --> activation - Activation function to use. If you don't specify anything, no activation is applied (see keras.activations).\n",
    "         Other available arguments: output_padding, data_format, dilation_rate, use_bias, kernel_initializer, bias_initializer, kernel_regularizer, bias_regularizer, activity_regularizer, kernel_constraint, bias_constraint.\n",
    " \n",
    "\n",
    "       \n",
    "More information about layers on: \n",
    "       https://keras.io/api/layers/\n",
    "       \n",
    "****"
   ]
  },
  {
   "cell_type": "code",
   "execution_count": 28,
   "id": "7777f9c5",
   "metadata": {},
   "outputs": [],
   "source": [
    "# Creating layers for keras.Sequential.\n",
    "layers = [\n",
    "    # Instantiate a keras tensor, one dimensional.\n",
    "    keras.layers.Input(shape=(x_train.shape[1], x_train.shape[2])),\n",
    "    # Create a convolution kernel.\n",
    "    keras.layers.Conv1D(\n",
    "        filters=32, kernel_size=7, padding=\"same\", strides=2, activation=\"relu\"),\n",
    "    # Set input unit.\n",
    "    keras.layers.Dropout(rate=0.2),\n",
    "    # Create a convolution kernel.\n",
    "    keras.layers.Conv1D(\n",
    "        filters=16, kernel_size=7, padding=\"same\", strides=2, activation=\"relu\"),\n",
    "    # Transpose layer.\n",
    "    keras.layers.Conv1DTranspose(\n",
    "            filters=16, kernel_size=7, padding=\"same\", strides=2, activation=\"relu\"),\n",
    "    # Set input unit.\n",
    "    keras.layers.Dropout(rate=0.2),\n",
    "    # Transpose layer.\n",
    "    keras.layers.Conv1DTranspose(\n",
    "            filters=32, kernel_size=7, padding=\"same\", strides=2, activation=\"relu\"),\n",
    "    # Transpose layer.\n",
    "    keras.layers.Conv1DTranspose(filters=1, kernel_size=7, padding=\"same\"),\n",
    "    ]"
   ]
  },
  {
   "cell_type": "code",
   "execution_count": 29,
   "id": "6ab56007",
   "metadata": {},
   "outputs": [],
   "source": [
    "# Create model.\n",
    "model = keras.Sequential(layers)"
   ]
  },
  {
   "cell_type": "markdown",
   "id": "32831b1a",
   "metadata": {},
   "source": [
    "Once the model is created, we can configure the model with losses and metrics with ***model.compile()*** and train the model with **model.fit()**."
   ]
  },
  {
   "cell_type": "markdown",
   "id": "04c1a117",
   "metadata": {},
   "source": [
    "***Compile*** method is used to configures the model for training. \n",
    "Arguments in function:\n",
    "   - optimizer - String (name of optimizer) or optimizer instance. Keras.optimizer is build-in optimizer classes. Optimizer used below implements ***the Adam algorithm*** (keras.optimizers.Adam). Adam optimization is a stochastic gradient descent method that is based on adaptive estimation of first-order and second-order moments. Argument used in this case is \"learning_rate\" - A tf.Tensor, floating point value, a schedule that is a tf.keras.optimizers.schedules.LearningRateSchedule, or a callable that takes no arguments and returns the actual value to use. The learning rate. Defaults to 0.001. \n",
    "   - loss - Loss function, may be a string (name of loss function), or a tf.keras.losses.Loss instance. A loss function is any callable with the signature loss = fn(y_true, y_pred), where y_true are the ground truth values, and y_pred are the model's predictions. The loss function should return a float tensor. If the model has multiple outputs, you can use a different loss on each output by passing a dictionary or a list of losses. The loss value that will be minimized by the model will then be the sum of all individual losses, unless loss_weights is specified.\n",
    "      Other available arguments: metrics, loss_weights, weighted_metrics, run_eagerly, steps_per_execution, jit_compile.\n",
    "              "
   ]
  },
  {
   "cell_type": "code",
   "execution_count": 30,
   "id": "9ac793a1",
   "metadata": {},
   "outputs": [],
   "source": [
    "# Set optimizer.\n",
    "optimizer = keras.optimizers.Adam(learning_rate=0.001)"
   ]
  },
  {
   "cell_type": "code",
   "execution_count": 31,
   "id": "01876c9f",
   "metadata": {},
   "outputs": [],
   "source": [
    "# Compile the model. \n",
    "model.compile(optimizer=optimizer, loss=\"mse\")"
   ]
  },
  {
   "cell_type": "code",
   "execution_count": 32,
   "id": "3ec1b386",
   "metadata": {},
   "outputs": [
    {
     "name": "stdout",
     "output_type": "stream",
     "text": [
      "Model: \"sequential\"\n",
      "_________________________________________________________________\n",
      "Layer (type)                 Output Shape              Param #   \n",
      "=================================================================\n",
      "conv1d (Conv1D)              (None, 144, 32)           256       \n",
      "_________________________________________________________________\n",
      "dropout (Dropout)            (None, 144, 32)           0         \n",
      "_________________________________________________________________\n",
      "conv1d_1 (Conv1D)            (None, 72, 16)            3600      \n",
      "_________________________________________________________________\n",
      "conv1d_transpose (Conv1DTran (None, 144, 16)           1808      \n",
      "_________________________________________________________________\n",
      "dropout_1 (Dropout)          (None, 144, 16)           0         \n",
      "_________________________________________________________________\n",
      "conv1d_transpose_1 (Conv1DTr (None, 288, 32)           3616      \n",
      "_________________________________________________________________\n",
      "conv1d_transpose_2 (Conv1DTr (None, 288, 1)            225       \n",
      "=================================================================\n",
      "Total params: 9,505\n",
      "Trainable params: 9,505\n",
      "Non-trainable params: 0\n",
      "_________________________________________________________________\n"
     ]
    }
   ],
   "source": [
    "# Print summary of the model. \n",
    "model.summary()"
   ]
  },
  {
   "cell_type": "markdown",
   "id": "99c80e3f",
   "metadata": {},
   "source": [
    "### Train the model.\n",
    "***"
   ]
  },
  {
   "cell_type": "markdown",
   "id": "1bfecc69",
   "metadata": {},
   "source": [
    "NOTE: in this model ***x_train*** is used both as a input and the target - since this is a reconstruction model."
   ]
  },
  {
   "cell_type": "markdown",
   "id": "90e2a0e4",
   "metadata": {},
   "source": [
    "Method used on the model is ***fit***  which will train the model for a fixed number of epochs (iterations on a dataset).\n",
    "Arguments used: \n",
    "- input_data - dataset used for model, can be Numpy array, Tensorflow tensor.\n",
    "- target_data - Like the input data, it could be either Numpy array or TensorFlow tensor, It should be consistent with input_data.\n",
    "- epochs -  number of epochs to train the model. An epoch is an iteration over the entire x and y datasets provided.\n",
    "- batch_size -  number of samples per gradient update.\n",
    "- validation_split - float between 0 and 1. Fraction of the training data to be used as validation data. The model will set apart this fraction of the training data, will not train on it, and will evaluate the loss and any model metrics on this data at the end of each epoch.\n",
    "- callbacks - list of keras.callbacks.Callback instances. List of callbacks to apply during training.\n",
    "\n",
    "\n",
    "***Model.fit*** is returning a History object, its History.history attribute is a record of training loss values and metrics values at successive epochs, as well as validation loss values and validation metrics values (if applicable)."
   ]
  },
  {
   "cell_type": "code",
   "execution_count": 33,
   "id": "91ef2c4d",
   "metadata": {},
   "outputs": [
    {
     "name": "stdout",
     "output_type": "stream",
     "text": [
      "Epoch 1/50\n",
      "27/27 [==============================] - 1s 43ms/step - loss: 0.5936 - val_loss: 0.3828\n",
      "Epoch 2/50\n",
      "27/27 [==============================] - 1s 34ms/step - loss: 0.2284 - val_loss: 0.0706\n",
      "Epoch 3/50\n",
      "27/27 [==============================] - 1s 34ms/step - loss: 0.0658 - val_loss: 0.0425\n",
      "Epoch 4/50\n",
      "27/27 [==============================] - 1s 34ms/step - loss: 0.0510 - val_loss: 0.0378\n",
      "Epoch 5/50\n",
      "27/27 [==============================] - 1s 34ms/step - loss: 0.0433 - val_loss: 0.0359\n",
      "Epoch 6/50\n",
      "27/27 [==============================] - 1s 34ms/step - loss: 0.0376 - val_loss: 0.0340\n",
      "Epoch 7/50\n",
      "27/27 [==============================] - 1s 34ms/step - loss: 0.0330 - val_loss: 0.0313\n",
      "Epoch 8/50\n",
      "27/27 [==============================] - 1s 33ms/step - loss: 0.0293 - val_loss: 0.0365\n",
      "Epoch 9/50\n",
      "27/27 [==============================] - 1s 33ms/step - loss: 0.0265 - val_loss: 0.0367\n",
      "Epoch 10/50\n",
      "27/27 [==============================] - 1s 33ms/step - loss: 0.0241 - val_loss: 0.0371\n",
      "Epoch 11/50\n",
      "27/27 [==============================] - 1s 35ms/step - loss: 0.0225 - val_loss: 0.0360\n",
      "Epoch 12/50\n",
      "27/27 [==============================] - 1s 35ms/step - loss: 0.0213 - val_loss: 0.0358\n"
     ]
    }
   ],
   "source": [
    "# Modeling data\n",
    "history = model.fit(\n",
    "    # Passing both input and output as same train data.\n",
    "    x_train,\n",
    "    x_train,\n",
    "    # Set number of iteration.\n",
    "    epochs=50,\n",
    "    # Number of samples.\n",
    "    batch_size=128,\n",
    "    # Set size of validation data.\n",
    "    validation_split=0.1,\n",
    "    # List of callbacks.\n",
    "    callbacks=[\n",
    "        keras.callbacks.EarlyStopping(monitor=\"val_loss\", patience=5, mode=\"min\")],\n",
    ")"
   ]
  },
  {
   "cell_type": "code",
   "execution_count": 34,
   "id": "e3cdaccc",
   "metadata": {
    "scrolled": true
   },
   "outputs": [
    {
     "data": {
      "image/png": "[encoded data removed]",
      "text/plain": [
       "<Figure size 864x432 with 1 Axes>"
      ]
     },
     "metadata": {
      "needs_background": "light"
     },
     "output_type": "display_data"
    }
   ],
   "source": [
    "# Plot training and validation loss.\n",
    "fig, ax = plt.subplots(figsize=(12,6))\n",
    "# Plot training loss.\n",
    "plt.plot(history.history[\"loss\"], label=\"Training Loss\")\n",
    "# Plot validation loss.\n",
    "plt.plot(history.history[\"val_loss\"], label=\"Validation Loss\")\n",
    "# Show legend.\n",
    "plt.legend();"
   ]
  },
  {
   "cell_type": "markdown",
   "id": "b88d64ac",
   "metadata": {},
   "source": [
    "****"
   ]
  },
  {
   "cell_type": "markdown",
   "id": "8821d26c",
   "metadata": {},
   "source": [
    "### Detecting anomalies."
   ]
  },
  {
   "cell_type": "markdown",
   "id": "bd04d062",
   "metadata": {},
   "source": [
    "We will detect anomalies by determining how well our model can reconstruct the input data. One of the steps included in that process, is finding **MAE loss**, which I belive is count of **Mean Absolute Error**, and maximum value of it. This is the worst our model has performed trying to reconstruct a sample. And it will become the **threshold** for anomaly detection.\n",
    "<br>If the reconstruction loss for a sample is greater than this threshold value then it can be And that can be labeled as an **anomaly**.\n"
   ]
  },
  {
   "cell_type": "markdown",
   "id": "76a4e7e2",
   "metadata": {},
   "source": [
    "<br> First method **predict** will be used, to get the prediction of the trained model. Predict helps in strategizing and finalizing the entire model with proper filters, including class labels and regression predictors. Below we used just one argument which is input sample, in this case is a ***x_train*** - sequence created above by the windows function."
   ]
  },
  {
   "cell_type": "code",
   "execution_count": 35,
   "id": "d8c683d7",
   "metadata": {},
   "outputs": [],
   "source": [
    "# Generate output predictions for input dataset.\n",
    "x_train_pred = model.predict(x_train)"
   ]
  },
  {
   "cell_type": "code",
   "execution_count": 36,
   "id": "ff8f1bf3",
   "metadata": {},
   "outputs": [],
   "source": [
    "# Calculate MAE loss.\n",
    "train_mae_loss = np.mean(np.abs(x_train_pred - x_train), axis=1)"
   ]
  },
  {
   "cell_type": "code",
   "execution_count": 37,
   "id": "36033484",
   "metadata": {},
   "outputs": [
    {
     "data": {
      "image/png": "[encoded data removed]",
      "text/plain": [
       "<Figure size 864x432 with 1 Axes>"
      ]
     },
     "metadata": {
      "needs_background": "light"
     },
     "output_type": "display_data"
    }
   ],
   "source": [
    "# Plot train loss data.\n",
    "fig, ax = plt.subplots(figsize=(12,6))\n",
    "# Plot histogram.\n",
    "ax.hist(train_mae_loss, bins=50)\n",
    "# Name label for x axis.\n",
    "ax.set_xlabel(\"Train MAE loss\")\n",
    "# Name label for y axis.\n",
    "ax.set_ylabel(\"No of samples\");"
   ]
  },
  {
   "cell_type": "code",
   "execution_count": 38,
   "id": "68901a28",
   "metadata": {},
   "outputs": [
    {
     "name": "stdout",
     "output_type": "stream",
     "text": [
      "0.14331057229463295\n"
     ]
    }
   ],
   "source": [
    "# Get reconstruction loss threshold.\n",
    "threshold = np.max(train_mae_loss)\n",
    "print( threshold)"
   ]
  },
  {
   "cell_type": "markdown",
   "id": "9882e76f",
   "metadata": {},
   "source": [
    "****"
   ]
  },
  {
   "cell_type": "markdown",
   "id": "be3b406b",
   "metadata": {},
   "source": [
    "### Compare reconstructions."
   ]
  },
  {
   "cell_type": "code",
   "execution_count": 39,
   "id": "f2e3d4b2",
   "metadata": {
    "scrolled": true
   },
   "outputs": [
    {
     "data": {
      "image/png": "[encoded data removed]",
      "text/plain": [
       "<Figure size 864x432 with 1 Axes>"
      ]
     },
     "metadata": {
      "needs_background": "light"
     },
     "output_type": "display_data"
    }
   ],
   "source": [
    "# Checking how the first sequence is learnt.\n",
    "# Plot data.\n",
    "fig, ax = plt.subplots(figsize=(12,6))\n",
    "# Plot train data.\n",
    "ax.plot(x_train[0])\n",
    "# Plot predicted data.\n",
    "ax.plot(x_train_pred[0]);"
   ]
  },
  {
   "cell_type": "markdown",
   "id": "42a5fb1a",
   "metadata": {},
   "source": [
    "#### Prepare test data"
   ]
  },
  {
   "cell_type": "code",
   "execution_count": 40,
   "id": "8a35bf76",
   "metadata": {},
   "outputs": [],
   "source": [
    "# Use test mean and test std on test value.\n",
    "df_test_value = (df_anomaly - training_mean) / training_std"
   ]
  },
  {
   "cell_type": "code",
   "execution_count": 41,
   "id": "b2c766cd",
   "metadata": {},
   "outputs": [
    {
     "data": {
      "image/png": "[encoded data removed]",
      "text/plain": [
       "<Figure size 864x432 with 1 Axes>"
      ]
     },
     "metadata": {
      "needs_background": "light"
     },
     "output_type": "display_data"
    }
   ],
   "source": [
    "# Plot test data.\n",
    "fig, ax = plt.subplots(figsize=(12,6))\n",
    "\n",
    "# Use Pandas to plot data frame.\n",
    "df_test_value.plot(legend=False, ax=ax);"
   ]
  },
  {
   "cell_type": "code",
   "execution_count": 42,
   "id": "7f447ccb",
   "metadata": {},
   "outputs": [
    {
     "data": {
      "text/plain": [
       "(3745, 288, 1)"
      ]
     },
     "execution_count": 42,
     "metadata": {},
     "output_type": "execute_result"
    }
   ],
   "source": [
    "# Create sequences from test values.\n",
    "x_test = windows(df_test_value.values)\n",
    "\n",
    "x_test.shape"
   ]
  },
  {
   "cell_type": "code",
   "execution_count": 43,
   "id": "73bcc938",
   "metadata": {},
   "outputs": [
    {
     "ename": "NameError",
     "evalue": "name 'x_test_pred' is not defined",
     "output_type": "error",
     "traceback": [
      "\u001b[1;31m---------------------------------------------------------------------------\u001b[0m",
      "\u001b[1;31mNameError\u001b[0m                                 Traceback (most recent call last)",
      "\u001b[1;32m<ipython-input-43-c61d3a435070>\u001b[0m in \u001b[0;36m<module>\u001b[1;34m\u001b[0m\n\u001b[0;32m      1\u001b[0m \u001b[1;31m# Check array of predictions.\u001b[0m\u001b[1;33m\u001b[0m\u001b[1;33m\u001b[0m\u001b[1;33m\u001b[0m\u001b[0m\n\u001b[1;32m----> 2\u001b[1;33m \u001b[0mx_test_pred\u001b[0m\u001b[1;33m[\u001b[0m\u001b[1;36m0\u001b[0m\u001b[1;33m]\u001b[0m\u001b[1;33m[\u001b[0m\u001b[1;33m:\u001b[0m\u001b[1;36m3\u001b[0m\u001b[1;33m]\u001b[0m\u001b[1;33m\u001b[0m\u001b[1;33m\u001b[0m\u001b[0m\n\u001b[0m",
      "\u001b[1;31mNameError\u001b[0m: name 'x_test_pred' is not defined"
     ]
    }
   ],
   "source": [
    "# Check array of predictions.\n",
    "x_test_pred[0][:3]"
   ]
  },
  {
   "cell_type": "code",
   "execution_count": null,
   "id": "b14a4d16",
   "metadata": {},
   "outputs": [],
   "source": [
    "# Get test MAE loss.\n",
    "test_mae_loss = np.mean(np.abs(x_test_pred - x_test), axis=1)"
   ]
  },
  {
   "cell_type": "code",
   "execution_count": null,
   "id": "0f35de2a",
   "metadata": {},
   "outputs": [],
   "source": [
    "test_mae_loss"
   ]
  },
  {
   "cell_type": "code",
   "execution_count": null,
   "id": "7b37ba07",
   "metadata": {},
   "outputs": [],
   "source": [
    "test_mae_loss"
   ]
  },
  {
   "cell_type": "code",
   "execution_count": null,
   "id": "870116db",
   "metadata": {},
   "outputs": [],
   "source": [
    "# Set the plot\n",
    "fig, ax = plt.subplots(figsize=(12,6))\n",
    "# Plot histogram.\n",
    "ax.hist(test_mae_loss, bins=50)\n",
    "# Set x-axis label.\n",
    "ax.set_xlabel(\"Test MAE loss\")\n",
    "# Set y-axis label.\n",
    "ax.set_ylabel(\"No of samples\");"
   ]
  },
  {
   "cell_type": "code",
   "execution_count": null,
   "id": "6c0613f7",
   "metadata": {},
   "outputs": [],
   "source": [
    "# Detect all the samples which are anomalies.\n",
    "anomalies = test_mae_loss > threshold\n",
    "\n",
    "# Number of anomalies.\n",
    "np.sum(anomalies)"
   ]
  },
  {
   "cell_type": "code",
   "execution_count": null,
   "id": "1cd3e0f0",
   "metadata": {},
   "outputs": [],
   "source": [
    "# Indices of anomalies.\n",
    "np.where(anomalies)"
   ]
  },
  {
   "cell_type": "markdown",
   "id": "362e1b56",
   "metadata": {},
   "source": [
    "### Plot anomalies"
   ]
  },
  {
   "cell_type": "code",
   "execution_count": null,
   "id": "990778f4",
   "metadata": {},
   "outputs": [],
   "source": [
    "# data i is an anomaly if samples [(i - timesteps + 1) to (i)] are anomalies\n",
    "inds = []\n",
    "for i in range(window_size - 1, len(df_test_value) - window_size + 1):\n",
    "    if np.all(anomalies[i - window_size + 1 : i]):\n",
    "        inds.append(i)\n"
   ]
  },
  {
   "cell_type": "code",
   "execution_count": null,
   "id": "b4d9e1b4",
   "metadata": {},
   "outputs": [],
   "source": [
    "#inds"
   ]
  },
  {
   "cell_type": "code",
   "execution_count": null,
   "id": "acece4fa",
   "metadata": {},
   "outputs": [],
   "source": [
    "#\n",
    "df_subset = df_anomaly.iloc[inds]"
   ]
  },
  {
   "cell_type": "code",
   "execution_count": null,
   "id": "e0b01270",
   "metadata": {},
   "outputs": [],
   "source": [
    "# Plot \n",
    "fig, ax = plt.subplots(figsize=(12,6))\n",
    "\n",
    "# Plot dataset.\n",
    "df_anomaly.plot(legend=False, ax=ax)\n",
    "# Plot anomaly.\n",
    "df_subset.plot(legend=False, ax=ax, color=\"r\");"
   ]
  },
  {
   "cell_type": "code",
   "execution_count": null,
   "id": "dd079017",
   "metadata": {},
   "outputs": [],
   "source": []
  },
  {
   "cell_type": "code",
   "execution_count": null,
   "id": "52da9372",
   "metadata": {},
   "outputs": [],
   "source": []
  },
  {
   "cell_type": "markdown",
   "id": "01fec46d",
   "metadata": {},
   "source": [
    "*****\n",
    "*****"
   ]
  }
 ],
 "metadata": {
  "kernelspec": {
   "display_name": "Python 3",
   "language": "python",
   "name": "python3"
  },
  "language_info": {
   "codemirror_mode": {
    "name": "ipython",
    "version": 3
   },
   "file_extension": ".py",
   "mimetype": "text/x-python",
   "name": "python",
   "nbconvert_exporter": "python",
   "pygments_lexer": "ipython3",
   "version": "3.8.8"
  }
 },
 "nbformat": 4,
 "nbformat_minor": 5
}
